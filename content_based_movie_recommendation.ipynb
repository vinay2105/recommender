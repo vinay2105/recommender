{
 "cells": [
  {
   "cell_type": "code",
   "execution_count": 272,
   "id": "cb5f28a0-8aa3-48bf-a06d-a22331e07ab0",
   "metadata": {},
   "outputs": [],
   "source": [
    "import pandas as pd\n",
    "import numpy as np"
   ]
  },
  {
   "cell_type": "code",
   "execution_count": 274,
   "id": "424f7a79-216c-44bb-b262-3c6a650c4cd5",
   "metadata": {},
   "outputs": [],
   "source": [
    "credit = pd.read_csv(\"credits.csv\")"
   ]
  },
  {
   "cell_type": "code",
   "execution_count": 275,
   "id": "18786ebb-4b30-4a7d-be26-4ce1ff22029b",
   "metadata": {},
   "outputs": [
    {
     "data": {
      "text/html": [
       "<div>\n",
       "<style scoped>\n",
       "    .dataframe tbody tr th:only-of-type {\n",
       "        vertical-align: middle;\n",
       "    }\n",
       "\n",
       "    .dataframe tbody tr th {\n",
       "        vertical-align: top;\n",
       "    }\n",
       "\n",
       "    .dataframe thead th {\n",
       "        text-align: right;\n",
       "    }\n",
       "</style>\n",
       "<table border=\"1\" class=\"dataframe\">\n",
       "  <thead>\n",
       "    <tr style=\"text-align: right;\">\n",
       "      <th></th>\n",
       "      <th>cast</th>\n",
       "      <th>crew</th>\n",
       "      <th>id</th>\n",
       "    </tr>\n",
       "  </thead>\n",
       "  <tbody>\n",
       "    <tr>\n",
       "      <th>0</th>\n",
       "      <td>[{'cast_id': 14, 'character': 'Woody (voice)',...</td>\n",
       "      <td>[{'credit_id': '52fe4284c3a36847f8024f49', 'de...</td>\n",
       "      <td>862</td>\n",
       "    </tr>\n",
       "    <tr>\n",
       "      <th>1</th>\n",
       "      <td>[{'cast_id': 1, 'character': 'Alan Parrish', '...</td>\n",
       "      <td>[{'credit_id': '52fe44bfc3a36847f80a7cd1', 'de...</td>\n",
       "      <td>8844</td>\n",
       "    </tr>\n",
       "    <tr>\n",
       "      <th>2</th>\n",
       "      <td>[{'cast_id': 2, 'character': 'Max Goldman', 'c...</td>\n",
       "      <td>[{'credit_id': '52fe466a9251416c75077a89', 'de...</td>\n",
       "      <td>15602</td>\n",
       "    </tr>\n",
       "    <tr>\n",
       "      <th>3</th>\n",
       "      <td>[{'cast_id': 1, 'character': \"Savannah 'Vannah...</td>\n",
       "      <td>[{'credit_id': '52fe44779251416c91011acb', 'de...</td>\n",
       "      <td>31357</td>\n",
       "    </tr>\n",
       "    <tr>\n",
       "      <th>4</th>\n",
       "      <td>[{'cast_id': 1, 'character': 'George Banks', '...</td>\n",
       "      <td>[{'credit_id': '52fe44959251416c75039ed7', 'de...</td>\n",
       "      <td>11862</td>\n",
       "    </tr>\n",
       "  </tbody>\n",
       "</table>\n",
       "</div>"
      ],
      "text/plain": [
       "                                                cast  \\\n",
       "0  [{'cast_id': 14, 'character': 'Woody (voice)',...   \n",
       "1  [{'cast_id': 1, 'character': 'Alan Parrish', '...   \n",
       "2  [{'cast_id': 2, 'character': 'Max Goldman', 'c...   \n",
       "3  [{'cast_id': 1, 'character': \"Savannah 'Vannah...   \n",
       "4  [{'cast_id': 1, 'character': 'George Banks', '...   \n",
       "\n",
       "                                                crew     id  \n",
       "0  [{'credit_id': '52fe4284c3a36847f8024f49', 'de...    862  \n",
       "1  [{'credit_id': '52fe44bfc3a36847f80a7cd1', 'de...   8844  \n",
       "2  [{'credit_id': '52fe466a9251416c75077a89', 'de...  15602  \n",
       "3  [{'credit_id': '52fe44779251416c91011acb', 'de...  31357  \n",
       "4  [{'credit_id': '52fe44959251416c75039ed7', 'de...  11862  "
      ]
     },
     "execution_count": 275,
     "metadata": {},
     "output_type": "execute_result"
    }
   ],
   "source": [
    "credit.head(5)"
   ]
  },
  {
   "cell_type": "code",
   "execution_count": 276,
   "id": "65efeab5-d924-4640-9500-518b290ffb16",
   "metadata": {},
   "outputs": [],
   "source": [
    "movie = pd.read_csv(\"movies_metadata.csv\", low_memory=False)"
   ]
  },
  {
   "cell_type": "code",
   "execution_count": 277,
   "id": "21bf134c-c27a-4da5-9119-12949a30e5af",
   "metadata": {},
   "outputs": [
    {
     "data": {
      "text/html": [
       "<div>\n",
       "<style scoped>\n",
       "    .dataframe tbody tr th:only-of-type {\n",
       "        vertical-align: middle;\n",
       "    }\n",
       "\n",
       "    .dataframe tbody tr th {\n",
       "        vertical-align: top;\n",
       "    }\n",
       "\n",
       "    .dataframe thead th {\n",
       "        text-align: right;\n",
       "    }\n",
       "</style>\n",
       "<table border=\"1\" class=\"dataframe\">\n",
       "  <thead>\n",
       "    <tr style=\"text-align: right;\">\n",
       "      <th></th>\n",
       "      <th>adult</th>\n",
       "      <th>belongs_to_collection</th>\n",
       "      <th>budget</th>\n",
       "      <th>genres</th>\n",
       "      <th>homepage</th>\n",
       "      <th>id</th>\n",
       "      <th>imdb_id</th>\n",
       "      <th>original_language</th>\n",
       "      <th>original_title</th>\n",
       "      <th>overview</th>\n",
       "      <th>...</th>\n",
       "      <th>release_date</th>\n",
       "      <th>revenue</th>\n",
       "      <th>runtime</th>\n",
       "      <th>spoken_languages</th>\n",
       "      <th>status</th>\n",
       "      <th>tagline</th>\n",
       "      <th>title</th>\n",
       "      <th>video</th>\n",
       "      <th>vote_average</th>\n",
       "      <th>vote_count</th>\n",
       "    </tr>\n",
       "  </thead>\n",
       "  <tbody>\n",
       "    <tr>\n",
       "      <th>0</th>\n",
       "      <td>False</td>\n",
       "      <td>{'id': 10194, 'name': 'Toy Story Collection', ...</td>\n",
       "      <td>30000000</td>\n",
       "      <td>[{'id': 16, 'name': 'Animation'}, {'id': 35, '...</td>\n",
       "      <td>http://toystory.disney.com/toy-story</td>\n",
       "      <td>862</td>\n",
       "      <td>tt0114709</td>\n",
       "      <td>en</td>\n",
       "      <td>Toy Story</td>\n",
       "      <td>Led by Woody, Andy's toys live happily in his ...</td>\n",
       "      <td>...</td>\n",
       "      <td>1995-10-30</td>\n",
       "      <td>373554033.0</td>\n",
       "      <td>81.0</td>\n",
       "      <td>[{'iso_639_1': 'en', 'name': 'English'}]</td>\n",
       "      <td>Released</td>\n",
       "      <td>NaN</td>\n",
       "      <td>Toy Story</td>\n",
       "      <td>False</td>\n",
       "      <td>7.7</td>\n",
       "      <td>5415.0</td>\n",
       "    </tr>\n",
       "    <tr>\n",
       "      <th>1</th>\n",
       "      <td>False</td>\n",
       "      <td>NaN</td>\n",
       "      <td>65000000</td>\n",
       "      <td>[{'id': 12, 'name': 'Adventure'}, {'id': 14, '...</td>\n",
       "      <td>NaN</td>\n",
       "      <td>8844</td>\n",
       "      <td>tt0113497</td>\n",
       "      <td>en</td>\n",
       "      <td>Jumanji</td>\n",
       "      <td>When siblings Judy and Peter discover an encha...</td>\n",
       "      <td>...</td>\n",
       "      <td>1995-12-15</td>\n",
       "      <td>262797249.0</td>\n",
       "      <td>104.0</td>\n",
       "      <td>[{'iso_639_1': 'en', 'name': 'English'}, {'iso...</td>\n",
       "      <td>Released</td>\n",
       "      <td>Roll the dice and unleash the excitement!</td>\n",
       "      <td>Jumanji</td>\n",
       "      <td>False</td>\n",
       "      <td>6.9</td>\n",
       "      <td>2413.0</td>\n",
       "    </tr>\n",
       "    <tr>\n",
       "      <th>2</th>\n",
       "      <td>False</td>\n",
       "      <td>{'id': 119050, 'name': 'Grumpy Old Men Collect...</td>\n",
       "      <td>0</td>\n",
       "      <td>[{'id': 10749, 'name': 'Romance'}, {'id': 35, ...</td>\n",
       "      <td>NaN</td>\n",
       "      <td>15602</td>\n",
       "      <td>tt0113228</td>\n",
       "      <td>en</td>\n",
       "      <td>Grumpier Old Men</td>\n",
       "      <td>A family wedding reignites the ancient feud be...</td>\n",
       "      <td>...</td>\n",
       "      <td>1995-12-22</td>\n",
       "      <td>0.0</td>\n",
       "      <td>101.0</td>\n",
       "      <td>[{'iso_639_1': 'en', 'name': 'English'}]</td>\n",
       "      <td>Released</td>\n",
       "      <td>Still Yelling. Still Fighting. Still Ready for...</td>\n",
       "      <td>Grumpier Old Men</td>\n",
       "      <td>False</td>\n",
       "      <td>6.5</td>\n",
       "      <td>92.0</td>\n",
       "    </tr>\n",
       "    <tr>\n",
       "      <th>3</th>\n",
       "      <td>False</td>\n",
       "      <td>NaN</td>\n",
       "      <td>16000000</td>\n",
       "      <td>[{'id': 35, 'name': 'Comedy'}, {'id': 18, 'nam...</td>\n",
       "      <td>NaN</td>\n",
       "      <td>31357</td>\n",
       "      <td>tt0114885</td>\n",
       "      <td>en</td>\n",
       "      <td>Waiting to Exhale</td>\n",
       "      <td>Cheated on, mistreated and stepped on, the wom...</td>\n",
       "      <td>...</td>\n",
       "      <td>1995-12-22</td>\n",
       "      <td>81452156.0</td>\n",
       "      <td>127.0</td>\n",
       "      <td>[{'iso_639_1': 'en', 'name': 'English'}]</td>\n",
       "      <td>Released</td>\n",
       "      <td>Friends are the people who let you be yourself...</td>\n",
       "      <td>Waiting to Exhale</td>\n",
       "      <td>False</td>\n",
       "      <td>6.1</td>\n",
       "      <td>34.0</td>\n",
       "    </tr>\n",
       "    <tr>\n",
       "      <th>4</th>\n",
       "      <td>False</td>\n",
       "      <td>{'id': 96871, 'name': 'Father of the Bride Col...</td>\n",
       "      <td>0</td>\n",
       "      <td>[{'id': 35, 'name': 'Comedy'}]</td>\n",
       "      <td>NaN</td>\n",
       "      <td>11862</td>\n",
       "      <td>tt0113041</td>\n",
       "      <td>en</td>\n",
       "      <td>Father of the Bride Part II</td>\n",
       "      <td>Just when George Banks has recovered from his ...</td>\n",
       "      <td>...</td>\n",
       "      <td>1995-02-10</td>\n",
       "      <td>76578911.0</td>\n",
       "      <td>106.0</td>\n",
       "      <td>[{'iso_639_1': 'en', 'name': 'English'}]</td>\n",
       "      <td>Released</td>\n",
       "      <td>Just When His World Is Back To Normal... He's ...</td>\n",
       "      <td>Father of the Bride Part II</td>\n",
       "      <td>False</td>\n",
       "      <td>5.7</td>\n",
       "      <td>173.0</td>\n",
       "    </tr>\n",
       "  </tbody>\n",
       "</table>\n",
       "<p>5 rows × 24 columns</p>\n",
       "</div>"
      ],
      "text/plain": [
       "   adult                              belongs_to_collection    budget  \\\n",
       "0  False  {'id': 10194, 'name': 'Toy Story Collection', ...  30000000   \n",
       "1  False                                                NaN  65000000   \n",
       "2  False  {'id': 119050, 'name': 'Grumpy Old Men Collect...         0   \n",
       "3  False                                                NaN  16000000   \n",
       "4  False  {'id': 96871, 'name': 'Father of the Bride Col...         0   \n",
       "\n",
       "                                              genres  \\\n",
       "0  [{'id': 16, 'name': 'Animation'}, {'id': 35, '...   \n",
       "1  [{'id': 12, 'name': 'Adventure'}, {'id': 14, '...   \n",
       "2  [{'id': 10749, 'name': 'Romance'}, {'id': 35, ...   \n",
       "3  [{'id': 35, 'name': 'Comedy'}, {'id': 18, 'nam...   \n",
       "4                     [{'id': 35, 'name': 'Comedy'}]   \n",
       "\n",
       "                               homepage     id    imdb_id original_language  \\\n",
       "0  http://toystory.disney.com/toy-story    862  tt0114709                en   \n",
       "1                                   NaN   8844  tt0113497                en   \n",
       "2                                   NaN  15602  tt0113228                en   \n",
       "3                                   NaN  31357  tt0114885                en   \n",
       "4                                   NaN  11862  tt0113041                en   \n",
       "\n",
       "                original_title  \\\n",
       "0                    Toy Story   \n",
       "1                      Jumanji   \n",
       "2             Grumpier Old Men   \n",
       "3            Waiting to Exhale   \n",
       "4  Father of the Bride Part II   \n",
       "\n",
       "                                            overview  ... release_date  \\\n",
       "0  Led by Woody, Andy's toys live happily in his ...  ...   1995-10-30   \n",
       "1  When siblings Judy and Peter discover an encha...  ...   1995-12-15   \n",
       "2  A family wedding reignites the ancient feud be...  ...   1995-12-22   \n",
       "3  Cheated on, mistreated and stepped on, the wom...  ...   1995-12-22   \n",
       "4  Just when George Banks has recovered from his ...  ...   1995-02-10   \n",
       "\n",
       "       revenue runtime                                   spoken_languages  \\\n",
       "0  373554033.0    81.0           [{'iso_639_1': 'en', 'name': 'English'}]   \n",
       "1  262797249.0   104.0  [{'iso_639_1': 'en', 'name': 'English'}, {'iso...   \n",
       "2          0.0   101.0           [{'iso_639_1': 'en', 'name': 'English'}]   \n",
       "3   81452156.0   127.0           [{'iso_639_1': 'en', 'name': 'English'}]   \n",
       "4   76578911.0   106.0           [{'iso_639_1': 'en', 'name': 'English'}]   \n",
       "\n",
       "     status                                            tagline  \\\n",
       "0  Released                                                NaN   \n",
       "1  Released          Roll the dice and unleash the excitement!   \n",
       "2  Released  Still Yelling. Still Fighting. Still Ready for...   \n",
       "3  Released  Friends are the people who let you be yourself...   \n",
       "4  Released  Just When His World Is Back To Normal... He's ...   \n",
       "\n",
       "                         title  video vote_average vote_count  \n",
       "0                    Toy Story  False          7.7     5415.0  \n",
       "1                      Jumanji  False          6.9     2413.0  \n",
       "2             Grumpier Old Men  False          6.5       92.0  \n",
       "3            Waiting to Exhale  False          6.1       34.0  \n",
       "4  Father of the Bride Part II  False          5.7      173.0  \n",
       "\n",
       "[5 rows x 24 columns]"
      ]
     },
     "execution_count": 277,
     "metadata": {},
     "output_type": "execute_result"
    }
   ],
   "source": [
    "movie.head(5)"
   ]
  },
  {
   "cell_type": "code",
   "execution_count": 278,
   "id": "5d270698-aede-417a-aa35-5317a46e5528",
   "metadata": {},
   "outputs": [],
   "source": [
    "import pickle"
   ]
  },
  {
   "cell_type": "code",
   "execution_count": 279,
   "id": "9cf9ab67-af81-4703-8f0b-5e4846b3ecf9",
   "metadata": {},
   "outputs": [],
   "source": [
    "movie2 = pickle.load(open(\"movie_df.pkl\",\"rb\"))"
   ]
  },
  {
   "cell_type": "code",
   "execution_count": 280,
   "id": "79e8b553-e97f-49e3-a900-4f205c2f2a0d",
   "metadata": {},
   "outputs": [],
   "source": [
    "movie2 = movie2[[\"title\"]]"
   ]
  },
  {
   "cell_type": "code",
   "execution_count": 283,
   "id": "d894f648-ea5a-48c2-a242-671a797f6e5c",
   "metadata": {},
   "outputs": [],
   "source": [
    "movie2 = movie2.drop_duplicates(subset=\"title\", keep=\"first\", inplace=False)"
   ]
  },
  {
   "cell_type": "code",
   "execution_count": 290,
   "id": "2b410b6e-712c-4c06-a3ab-57aeeaa0ea60",
   "metadata": {},
   "outputs": [
    {
     "data": {
      "text/html": [
       "<div>\n",
       "<style scoped>\n",
       "    .dataframe tbody tr th:only-of-type {\n",
       "        vertical-align: middle;\n",
       "    }\n",
       "\n",
       "    .dataframe tbody tr th {\n",
       "        vertical-align: top;\n",
       "    }\n",
       "\n",
       "    .dataframe thead th {\n",
       "        text-align: right;\n",
       "    }\n",
       "</style>\n",
       "<table border=\"1\" class=\"dataframe\">\n",
       "  <thead>\n",
       "    <tr style=\"text-align: right;\">\n",
       "      <th></th>\n",
       "      <th>title</th>\n",
       "    </tr>\n",
       "  </thead>\n",
       "  <tbody>\n",
       "    <tr>\n",
       "      <th>0</th>\n",
       "      <td>Rocky III</td>\n",
       "    </tr>\n",
       "    <tr>\n",
       "      <th>1</th>\n",
       "      <td>Greed</td>\n",
       "    </tr>\n",
       "    <tr>\n",
       "      <th>2</th>\n",
       "      <td>American Pie</td>\n",
       "    </tr>\n",
       "    <tr>\n",
       "      <th>3</th>\n",
       "      <td>My Tutor</td>\n",
       "    </tr>\n",
       "    <tr>\n",
       "      <th>4</th>\n",
       "      <td>Jay and Silent Bob Strike Back</td>\n",
       "    </tr>\n",
       "    <tr>\n",
       "      <th>...</th>\n",
       "      <td>...</td>\n",
       "    </tr>\n",
       "    <tr>\n",
       "      <th>43786</th>\n",
       "      <td>8:46</td>\n",
       "    </tr>\n",
       "    <tr>\n",
       "      <th>43787</th>\n",
       "      <td>Love Is a Ball</td>\n",
       "    </tr>\n",
       "    <tr>\n",
       "      <th>44294</th>\n",
       "      <td>K-PAX</td>\n",
       "    </tr>\n",
       "    <tr>\n",
       "      <th>44347</th>\n",
       "      <td>Starship Troopers</td>\n",
       "    </tr>\n",
       "    <tr>\n",
       "      <th>44624</th>\n",
       "      <td>Spirited Away</td>\n",
       "    </tr>\n",
       "  </tbody>\n",
       "</table>\n",
       "<p>2794 rows × 1 columns</p>\n",
       "</div>"
      ],
      "text/plain": [
       "                                title\n",
       "0                           Rocky III\n",
       "1                               Greed\n",
       "2                        American Pie\n",
       "3                            My Tutor\n",
       "4      Jay and Silent Bob Strike Back\n",
       "...                               ...\n",
       "43786                            8:46\n",
       "43787                  Love Is a Ball\n",
       "44294                           K-PAX\n",
       "44347               Starship Troopers\n",
       "44624                   Spirited Away\n",
       "\n",
       "[2794 rows x 1 columns]"
      ]
     },
     "execution_count": 290,
     "metadata": {},
     "output_type": "execute_result"
    }
   ],
   "source": [
    "movie2"
   ]
  },
  {
   "cell_type": "code",
   "execution_count": 292,
   "id": "3b366903-7bf2-41b5-b778-c7ec7e047281",
   "metadata": {},
   "outputs": [],
   "source": [
    "def compress(m1,m2):\n",
    "    l1 = list(m2[\"title\"])\n",
    "    for i in m1['title']:\n",
    "        if i not in l1:\n",
    "            m1 = m1[m1[\"title\"]!= i]\n",
    "    return m1\n",
    "\n",
    "\n",
    "            "
   ]
  },
  {
   "cell_type": "code",
   "execution_count": 294,
   "id": "b4055e2f-ace0-4b62-85a5-1e1dad2b9d67",
   "metadata": {},
   "outputs": [],
   "source": [
    "movie = compress(movie,movie2)"
   ]
  },
  {
   "cell_type": "code",
   "execution_count": 426,
   "id": "eafa988d-b86f-4c67-bd0b-8b7b9605b100",
   "metadata": {},
   "outputs": [],
   "source": [
    "movie = movie.drop_duplicates(subset=\"imdb_id\", keep='first', inplace=False)"
   ]
  },
  {
   "cell_type": "code",
   "execution_count": 428,
   "id": "3d65960d-6e5c-4045-9edd-bb787a3b38ac",
   "metadata": {},
   "outputs": [
    {
     "data": {
      "text/plain": [
       "(3365, 5)"
      ]
     },
     "execution_count": 428,
     "metadata": {},
     "output_type": "execute_result"
    }
   ],
   "source": [
    "movie.shape"
   ]
  },
  {
   "cell_type": "code",
   "execution_count": 430,
   "id": "812ec96f-2d41-4e0c-b6b3-959abb2f713e",
   "metadata": {},
   "outputs": [
    {
     "data": {
      "text/plain": [
       "Index(['imdb_id', 'id', 'title', 'overview', 'genres'], dtype='object')"
      ]
     },
     "execution_count": 430,
     "metadata": {},
     "output_type": "execute_result"
    }
   ],
   "source": [
    "movie.columns"
   ]
  },
  {
   "cell_type": "code",
   "execution_count": 432,
   "id": "44c6e8ee-cf98-429b-a6da-6e18d43169c7",
   "metadata": {},
   "outputs": [],
   "source": [
    "movie = movie[['imdb_id','id','title','overview','genres']]"
   ]
  },
  {
   "cell_type": "code",
   "execution_count": 434,
   "id": "fcb88491-2de8-44fc-9119-bcb2858c74b3",
   "metadata": {},
   "outputs": [
    {
     "data": {
      "text/html": [
       "<div>\n",
       "<style scoped>\n",
       "    .dataframe tbody tr th:only-of-type {\n",
       "        vertical-align: middle;\n",
       "    }\n",
       "\n",
       "    .dataframe tbody tr th {\n",
       "        vertical-align: top;\n",
       "    }\n",
       "\n",
       "    .dataframe thead th {\n",
       "        text-align: right;\n",
       "    }\n",
       "</style>\n",
       "<table border=\"1\" class=\"dataframe\">\n",
       "  <thead>\n",
       "    <tr style=\"text-align: right;\">\n",
       "      <th></th>\n",
       "      <th>imdb_id</th>\n",
       "      <th>id</th>\n",
       "      <th>title</th>\n",
       "      <th>overview</th>\n",
       "      <th>genres</th>\n",
       "    </tr>\n",
       "  </thead>\n",
       "  <tbody>\n",
       "    <tr>\n",
       "      <th>5</th>\n",
       "      <td>tt0113277</td>\n",
       "      <td>949</td>\n",
       "      <td>Heat</td>\n",
       "      <td>Obsessive master thief, Neil McCauley leads a ...</td>\n",
       "      <td>[{'id': 28, 'name': 'Action'}, {'id': 80, 'nam...</td>\n",
       "    </tr>\n",
       "    <tr>\n",
       "      <th>6</th>\n",
       "      <td>tt0114319</td>\n",
       "      <td>11860</td>\n",
       "      <td>Sabrina</td>\n",
       "      <td>An ugly duckling having undergone a remarkable...</td>\n",
       "      <td>[{'id': 35, 'name': 'Comedy'}, {'id': 10749, '...</td>\n",
       "    </tr>\n",
       "    <tr>\n",
       "      <th>9</th>\n",
       "      <td>tt0113189</td>\n",
       "      <td>710</td>\n",
       "      <td>GoldenEye</td>\n",
       "      <td>James Bond must unmask the mysterious head of ...</td>\n",
       "      <td>[{'id': 12, 'name': 'Adventure'}, {'id': 28, '...</td>\n",
       "    </tr>\n",
       "    <tr>\n",
       "      <th>14</th>\n",
       "      <td>tt0112760</td>\n",
       "      <td>1408</td>\n",
       "      <td>Cutthroat Island</td>\n",
       "      <td>Morgan Adams and her slave, William Shaw, are ...</td>\n",
       "      <td>[{'id': 28, 'name': 'Action'}, {'id': 12, 'nam...</td>\n",
       "    </tr>\n",
       "    <tr>\n",
       "      <th>15</th>\n",
       "      <td>tt0112641</td>\n",
       "      <td>524</td>\n",
       "      <td>Casino</td>\n",
       "      <td>The life of the gambling paradise – Las Vegas ...</td>\n",
       "      <td>[{'id': 18, 'name': 'Drama'}, {'id': 80, 'name...</td>\n",
       "    </tr>\n",
       "    <tr>\n",
       "      <th>16</th>\n",
       "      <td>tt0114388</td>\n",
       "      <td>4584</td>\n",
       "      <td>Sense and Sensibility</td>\n",
       "      <td>Rich Mr. Dashwood dies, leaving his second wif...</td>\n",
       "      <td>[{'id': 18, 'name': 'Drama'}, {'id': 10749, 'n...</td>\n",
       "    </tr>\n",
       "  </tbody>\n",
       "</table>\n",
       "</div>"
      ],
      "text/plain": [
       "      imdb_id     id                  title  \\\n",
       "5   tt0113277    949                   Heat   \n",
       "6   tt0114319  11860                Sabrina   \n",
       "9   tt0113189    710              GoldenEye   \n",
       "14  tt0112760   1408       Cutthroat Island   \n",
       "15  tt0112641    524                 Casino   \n",
       "16  tt0114388   4584  Sense and Sensibility   \n",
       "\n",
       "                                             overview  \\\n",
       "5   Obsessive master thief, Neil McCauley leads a ...   \n",
       "6   An ugly duckling having undergone a remarkable...   \n",
       "9   James Bond must unmask the mysterious head of ...   \n",
       "14  Morgan Adams and her slave, William Shaw, are ...   \n",
       "15  The life of the gambling paradise – Las Vegas ...   \n",
       "16  Rich Mr. Dashwood dies, leaving his second wif...   \n",
       "\n",
       "                                               genres  \n",
       "5   [{'id': 28, 'name': 'Action'}, {'id': 80, 'nam...  \n",
       "6   [{'id': 35, 'name': 'Comedy'}, {'id': 10749, '...  \n",
       "9   [{'id': 12, 'name': 'Adventure'}, {'id': 28, '...  \n",
       "14  [{'id': 28, 'name': 'Action'}, {'id': 12, 'nam...  \n",
       "15  [{'id': 18, 'name': 'Drama'}, {'id': 80, 'name...  \n",
       "16  [{'id': 18, 'name': 'Drama'}, {'id': 10749, 'n...  "
      ]
     },
     "execution_count": 434,
     "metadata": {},
     "output_type": "execute_result"
    }
   ],
   "source": [
    "movie.head(6)"
   ]
  },
  {
   "cell_type": "code",
   "execution_count": 435,
   "id": "ba97b794-d48e-4c2f-830c-542bb2ecc7b2",
   "metadata": {},
   "outputs": [],
   "source": [
    "movie[\"id\"] = pd.to_numeric(movie[\"id\"], errors=\"coerce\").astype(\"Int32\")\n",
    "credit[\"id\"] = pd.to_numeric(credit[\"id\"], errors=\"coerce\").astype(\"Int32\")"
   ]
  },
  {
   "cell_type": "code",
   "execution_count": 436,
   "id": "7db465ae-f37b-45fd-9442-5047c4a5a38a",
   "metadata": {},
   "outputs": [],
   "source": [
    "movie = movie.dropna(subset=[\"id\"])\n",
    "credit = credit.dropna(subset=[\"id\"])"
   ]
  },
  {
   "cell_type": "code",
   "execution_count": 437,
   "id": "ea46f011-5af1-4562-993d-89b5a3b1bd20",
   "metadata": {},
   "outputs": [],
   "source": [
    "movies = pd.merge(movie,credit, on='id', how='inner')"
   ]
  },
  {
   "cell_type": "code",
   "execution_count": 438,
   "id": "1f0fe689-b8be-4a12-93be-e542c101eafc",
   "metadata": {},
   "outputs": [
    {
     "data": {
      "text/html": [
       "<div>\n",
       "<style scoped>\n",
       "    .dataframe tbody tr th:only-of-type {\n",
       "        vertical-align: middle;\n",
       "    }\n",
       "\n",
       "    .dataframe tbody tr th {\n",
       "        vertical-align: top;\n",
       "    }\n",
       "\n",
       "    .dataframe thead th {\n",
       "        text-align: right;\n",
       "    }\n",
       "</style>\n",
       "<table border=\"1\" class=\"dataframe\">\n",
       "  <thead>\n",
       "    <tr style=\"text-align: right;\">\n",
       "      <th></th>\n",
       "      <th>imdb_id</th>\n",
       "      <th>id</th>\n",
       "      <th>title</th>\n",
       "      <th>overview</th>\n",
       "      <th>genres</th>\n",
       "      <th>cast</th>\n",
       "      <th>crew</th>\n",
       "    </tr>\n",
       "  </thead>\n",
       "  <tbody>\n",
       "    <tr>\n",
       "      <th>0</th>\n",
       "      <td>tt0113277</td>\n",
       "      <td>949</td>\n",
       "      <td>Heat</td>\n",
       "      <td>Obsessive master thief, Neil McCauley leads a ...</td>\n",
       "      <td>[{'id': 28, 'name': 'Action'}, {'id': 80, 'nam...</td>\n",
       "      <td>[{'cast_id': 25, 'character': 'Lt. Vincent Han...</td>\n",
       "      <td>[{'credit_id': '52fe4292c3a36847f802916d', 'de...</td>\n",
       "    </tr>\n",
       "    <tr>\n",
       "      <th>1</th>\n",
       "      <td>tt0114319</td>\n",
       "      <td>11860</td>\n",
       "      <td>Sabrina</td>\n",
       "      <td>An ugly duckling having undergone a remarkable...</td>\n",
       "      <td>[{'id': 35, 'name': 'Comedy'}, {'id': 10749, '...</td>\n",
       "      <td>[{'cast_id': 1, 'character': 'Linus Larrabee',...</td>\n",
       "      <td>[{'credit_id': '52fe44959251416c75039da9', 'de...</td>\n",
       "    </tr>\n",
       "    <tr>\n",
       "      <th>2</th>\n",
       "      <td>tt0113189</td>\n",
       "      <td>710</td>\n",
       "      <td>GoldenEye</td>\n",
       "      <td>James Bond must unmask the mysterious head of ...</td>\n",
       "      <td>[{'id': 12, 'name': 'Adventure'}, {'id': 28, '...</td>\n",
       "      <td>[{'cast_id': 1, 'character': 'James Bond', 'cr...</td>\n",
       "      <td>[{'credit_id': '52fe426ec3a36847f801e14b', 'de...</td>\n",
       "    </tr>\n",
       "    <tr>\n",
       "      <th>3</th>\n",
       "      <td>tt0112760</td>\n",
       "      <td>1408</td>\n",
       "      <td>Cutthroat Island</td>\n",
       "      <td>Morgan Adams and her slave, William Shaw, are ...</td>\n",
       "      <td>[{'id': 28, 'name': 'Action'}, {'id': 12, 'nam...</td>\n",
       "      <td>[{'cast_id': 1, 'character': 'Morgan Adams', '...</td>\n",
       "      <td>[{'credit_id': '52fe42f4c3a36847f802f69f', 'de...</td>\n",
       "    </tr>\n",
       "    <tr>\n",
       "      <th>4</th>\n",
       "      <td>tt0112641</td>\n",
       "      <td>524</td>\n",
       "      <td>Casino</td>\n",
       "      <td>The life of the gambling paradise – Las Vegas ...</td>\n",
       "      <td>[{'id': 18, 'name': 'Drama'}, {'id': 80, 'name...</td>\n",
       "      <td>[{'cast_id': 4, 'character': \"Sam 'Ace' Rothst...</td>\n",
       "      <td>[{'credit_id': '52fe424dc3a36847f80139cd', 'de...</td>\n",
       "    </tr>\n",
       "  </tbody>\n",
       "</table>\n",
       "</div>"
      ],
      "text/plain": [
       "     imdb_id     id             title  \\\n",
       "0  tt0113277    949              Heat   \n",
       "1  tt0114319  11860           Sabrina   \n",
       "2  tt0113189    710         GoldenEye   \n",
       "3  tt0112760   1408  Cutthroat Island   \n",
       "4  tt0112641    524            Casino   \n",
       "\n",
       "                                            overview  \\\n",
       "0  Obsessive master thief, Neil McCauley leads a ...   \n",
       "1  An ugly duckling having undergone a remarkable...   \n",
       "2  James Bond must unmask the mysterious head of ...   \n",
       "3  Morgan Adams and her slave, William Shaw, are ...   \n",
       "4  The life of the gambling paradise – Las Vegas ...   \n",
       "\n",
       "                                              genres  \\\n",
       "0  [{'id': 28, 'name': 'Action'}, {'id': 80, 'nam...   \n",
       "1  [{'id': 35, 'name': 'Comedy'}, {'id': 10749, '...   \n",
       "2  [{'id': 12, 'name': 'Adventure'}, {'id': 28, '...   \n",
       "3  [{'id': 28, 'name': 'Action'}, {'id': 12, 'nam...   \n",
       "4  [{'id': 18, 'name': 'Drama'}, {'id': 80, 'name...   \n",
       "\n",
       "                                                cast  \\\n",
       "0  [{'cast_id': 25, 'character': 'Lt. Vincent Han...   \n",
       "1  [{'cast_id': 1, 'character': 'Linus Larrabee',...   \n",
       "2  [{'cast_id': 1, 'character': 'James Bond', 'cr...   \n",
       "3  [{'cast_id': 1, 'character': 'Morgan Adams', '...   \n",
       "4  [{'cast_id': 4, 'character': \"Sam 'Ace' Rothst...   \n",
       "\n",
       "                                                crew  \n",
       "0  [{'credit_id': '52fe4292c3a36847f802916d', 'de...  \n",
       "1  [{'credit_id': '52fe44959251416c75039da9', 'de...  \n",
       "2  [{'credit_id': '52fe426ec3a36847f801e14b', 'de...  \n",
       "3  [{'credit_id': '52fe42f4c3a36847f802f69f', 'de...  \n",
       "4  [{'credit_id': '52fe424dc3a36847f80139cd', 'de...  "
      ]
     },
     "execution_count": 438,
     "metadata": {},
     "output_type": "execute_result"
    }
   ],
   "source": [
    "movies.head(5)"
   ]
  },
  {
   "cell_type": "code",
   "execution_count": 439,
   "id": "4df3b550-918d-4bdf-85bc-2a050b4b7e34",
   "metadata": {},
   "outputs": [
    {
     "data": {
      "text/plain": [
       "(3369, 7)"
      ]
     },
     "execution_count": 439,
     "metadata": {},
     "output_type": "execute_result"
    }
   ],
   "source": [
    "movies.shape"
   ]
  },
  {
   "cell_type": "code",
   "execution_count": 440,
   "id": "14139c9a-07e6-4ae2-9e9d-146df5bbc2cd",
   "metadata": {},
   "outputs": [
    {
     "data": {
      "text/plain": [
       "(3365,)"
      ]
     },
     "execution_count": 440,
     "metadata": {},
     "output_type": "execute_result"
    }
   ],
   "source": [
    "movies['imdb_id'].unique().shape"
   ]
  },
  {
   "cell_type": "code",
   "execution_count": 441,
   "id": "8df6b4e3-43f6-49eb-940b-24ca8d7a88eb",
   "metadata": {},
   "outputs": [
    {
     "data": {
      "text/html": [
       "<div>\n",
       "<style scoped>\n",
       "    .dataframe tbody tr th:only-of-type {\n",
       "        vertical-align: middle;\n",
       "    }\n",
       "\n",
       "    .dataframe tbody tr th {\n",
       "        vertical-align: top;\n",
       "    }\n",
       "\n",
       "    .dataframe thead th {\n",
       "        text-align: right;\n",
       "    }\n",
       "</style>\n",
       "<table border=\"1\" class=\"dataframe\">\n",
       "  <thead>\n",
       "    <tr style=\"text-align: right;\">\n",
       "      <th></th>\n",
       "      <th>imdb_id</th>\n",
       "      <th>id</th>\n",
       "      <th>title</th>\n",
       "      <th>overview</th>\n",
       "      <th>genres</th>\n",
       "      <th>cast</th>\n",
       "      <th>crew</th>\n",
       "    </tr>\n",
       "  </thead>\n",
       "  <tbody>\n",
       "    <tr>\n",
       "      <th>0</th>\n",
       "      <td>tt0113277</td>\n",
       "      <td>949</td>\n",
       "      <td>Heat</td>\n",
       "      <td>Obsessive master thief, Neil McCauley leads a ...</td>\n",
       "      <td>[{'id': 28, 'name': 'Action'}, {'id': 80, 'nam...</td>\n",
       "      <td>[{'cast_id': 25, 'character': 'Lt. Vincent Han...</td>\n",
       "      <td>[{'credit_id': '52fe4292c3a36847f802916d', 'de...</td>\n",
       "    </tr>\n",
       "    <tr>\n",
       "      <th>1</th>\n",
       "      <td>tt0114319</td>\n",
       "      <td>11860</td>\n",
       "      <td>Sabrina</td>\n",
       "      <td>An ugly duckling having undergone a remarkable...</td>\n",
       "      <td>[{'id': 35, 'name': 'Comedy'}, {'id': 10749, '...</td>\n",
       "      <td>[{'cast_id': 1, 'character': 'Linus Larrabee',...</td>\n",
       "      <td>[{'credit_id': '52fe44959251416c75039da9', 'de...</td>\n",
       "    </tr>\n",
       "    <tr>\n",
       "      <th>2</th>\n",
       "      <td>tt0113189</td>\n",
       "      <td>710</td>\n",
       "      <td>GoldenEye</td>\n",
       "      <td>James Bond must unmask the mysterious head of ...</td>\n",
       "      <td>[{'id': 12, 'name': 'Adventure'}, {'id': 28, '...</td>\n",
       "      <td>[{'cast_id': 1, 'character': 'James Bond', 'cr...</td>\n",
       "      <td>[{'credit_id': '52fe426ec3a36847f801e14b', 'de...</td>\n",
       "    </tr>\n",
       "    <tr>\n",
       "      <th>3</th>\n",
       "      <td>tt0112760</td>\n",
       "      <td>1408</td>\n",
       "      <td>Cutthroat Island</td>\n",
       "      <td>Morgan Adams and her slave, William Shaw, are ...</td>\n",
       "      <td>[{'id': 28, 'name': 'Action'}, {'id': 12, 'nam...</td>\n",
       "      <td>[{'cast_id': 1, 'character': 'Morgan Adams', '...</td>\n",
       "      <td>[{'credit_id': '52fe42f4c3a36847f802f69f', 'de...</td>\n",
       "    </tr>\n",
       "    <tr>\n",
       "      <th>4</th>\n",
       "      <td>tt0112641</td>\n",
       "      <td>524</td>\n",
       "      <td>Casino</td>\n",
       "      <td>The life of the gambling paradise – Las Vegas ...</td>\n",
       "      <td>[{'id': 18, 'name': 'Drama'}, {'id': 80, 'name...</td>\n",
       "      <td>[{'cast_id': 4, 'character': \"Sam 'Ace' Rothst...</td>\n",
       "      <td>[{'credit_id': '52fe424dc3a36847f80139cd', 'de...</td>\n",
       "    </tr>\n",
       "    <tr>\n",
       "      <th>...</th>\n",
       "      <td>...</td>\n",
       "      <td>...</td>\n",
       "      <td>...</td>\n",
       "      <td>...</td>\n",
       "      <td>...</td>\n",
       "      <td>...</td>\n",
       "      <td>...</td>\n",
       "    </tr>\n",
       "    <tr>\n",
       "      <th>3364</th>\n",
       "      <td>tt0061683</td>\n",
       "      <td>3104</td>\n",
       "      <td>Frankenstein Created Woman</td>\n",
       "      <td>A deformed tormented girl drowns herself after...</td>\n",
       "      <td>[{'id': 27, 'name': 'Horror'}, {'id': 878, 'na...</td>\n",
       "      <td>[{'cast_id': 9, 'character': 'Baron Frankenste...</td>\n",
       "      <td>[{'credit_id': '52fe4386c3a36847f805ae49', 'de...</td>\n",
       "    </tr>\n",
       "    <tr>\n",
       "      <th>3365</th>\n",
       "      <td>tt1047845</td>\n",
       "      <td>64197</td>\n",
       "      <td>Travelling with Pets</td>\n",
       "      <td>Plucked from an orphanage as a literal love sl...</td>\n",
       "      <td>[{'id': 10749, 'name': 'Romance'}, {'id': 18, ...</td>\n",
       "      <td>[{'cast_id': 2, 'character': 'Sergei', 'credit...</td>\n",
       "      <td>[{'credit_id': '52fe46cdc3a368484e0a475d', 'de...</td>\n",
       "    </tr>\n",
       "    <tr>\n",
       "      <th>3366</th>\n",
       "      <td>tt2147597</td>\n",
       "      <td>98604</td>\n",
       "      <td>Cinderella</td>\n",
       "      <td>Masha Krapivina - is yet beautiful, and not th...</td>\n",
       "      <td>[{'id': 35, 'name': 'Comedy'}, {'id': 10749, '...</td>\n",
       "      <td>[{'cast_id': 1001, 'character': 'Masha', 'cred...</td>\n",
       "      <td>[{'credit_id': '52fe4a1c9251416c750de11b', 'de...</td>\n",
       "    </tr>\n",
       "    <tr>\n",
       "      <th>3367</th>\n",
       "      <td>tt0144020</td>\n",
       "      <td>52103</td>\n",
       "      <td>Pickpocket</td>\n",
       "      <td>Little pocket thief Wu never got away from the...</td>\n",
       "      <td>[{'id': 18, 'name': 'Drama'}, {'id': 10769, 'n...</td>\n",
       "      <td>[{'cast_id': 3, 'character': 'Xiao Wu', 'credi...</td>\n",
       "      <td>[{'credit_id': '52fe4819c3a36847f8157c9f', 'de...</td>\n",
       "    </tr>\n",
       "    <tr>\n",
       "      <th>3368</th>\n",
       "      <td>tt0135453</td>\n",
       "      <td>49280</td>\n",
       "      <td>The One-Man Band</td>\n",
       "      <td>A band-leader has arranged seven chairs for th...</td>\n",
       "      <td>[{'id': 14, 'name': 'Fantasy'}, {'id': 28, 'na...</td>\n",
       "      <td>[{'cast_id': 3, 'character': 'All the members ...</td>\n",
       "      <td>[{'credit_id': '52fe478dc3a36847f813bd6b', 'de...</td>\n",
       "    </tr>\n",
       "  </tbody>\n",
       "</table>\n",
       "<p>3365 rows × 7 columns</p>\n",
       "</div>"
      ],
      "text/plain": [
       "        imdb_id     id                       title  \\\n",
       "0     tt0113277    949                        Heat   \n",
       "1     tt0114319  11860                     Sabrina   \n",
       "2     tt0113189    710                   GoldenEye   \n",
       "3     tt0112760   1408            Cutthroat Island   \n",
       "4     tt0112641    524                      Casino   \n",
       "...         ...    ...                         ...   \n",
       "3364  tt0061683   3104  Frankenstein Created Woman   \n",
       "3365  tt1047845  64197        Travelling with Pets   \n",
       "3366  tt2147597  98604                  Cinderella   \n",
       "3367  tt0144020  52103                  Pickpocket   \n",
       "3368  tt0135453  49280            The One-Man Band   \n",
       "\n",
       "                                               overview  \\\n",
       "0     Obsessive master thief, Neil McCauley leads a ...   \n",
       "1     An ugly duckling having undergone a remarkable...   \n",
       "2     James Bond must unmask the mysterious head of ...   \n",
       "3     Morgan Adams and her slave, William Shaw, are ...   \n",
       "4     The life of the gambling paradise – Las Vegas ...   \n",
       "...                                                 ...   \n",
       "3364  A deformed tormented girl drowns herself after...   \n",
       "3365  Plucked from an orphanage as a literal love sl...   \n",
       "3366  Masha Krapivina - is yet beautiful, and not th...   \n",
       "3367  Little pocket thief Wu never got away from the...   \n",
       "3368  A band-leader has arranged seven chairs for th...   \n",
       "\n",
       "                                                 genres  \\\n",
       "0     [{'id': 28, 'name': 'Action'}, {'id': 80, 'nam...   \n",
       "1     [{'id': 35, 'name': 'Comedy'}, {'id': 10749, '...   \n",
       "2     [{'id': 12, 'name': 'Adventure'}, {'id': 28, '...   \n",
       "3     [{'id': 28, 'name': 'Action'}, {'id': 12, 'nam...   \n",
       "4     [{'id': 18, 'name': 'Drama'}, {'id': 80, 'name...   \n",
       "...                                                 ...   \n",
       "3364  [{'id': 27, 'name': 'Horror'}, {'id': 878, 'na...   \n",
       "3365  [{'id': 10749, 'name': 'Romance'}, {'id': 18, ...   \n",
       "3366  [{'id': 35, 'name': 'Comedy'}, {'id': 10749, '...   \n",
       "3367  [{'id': 18, 'name': 'Drama'}, {'id': 10769, 'n...   \n",
       "3368  [{'id': 14, 'name': 'Fantasy'}, {'id': 28, 'na...   \n",
       "\n",
       "                                                   cast  \\\n",
       "0     [{'cast_id': 25, 'character': 'Lt. Vincent Han...   \n",
       "1     [{'cast_id': 1, 'character': 'Linus Larrabee',...   \n",
       "2     [{'cast_id': 1, 'character': 'James Bond', 'cr...   \n",
       "3     [{'cast_id': 1, 'character': 'Morgan Adams', '...   \n",
       "4     [{'cast_id': 4, 'character': \"Sam 'Ace' Rothst...   \n",
       "...                                                 ...   \n",
       "3364  [{'cast_id': 9, 'character': 'Baron Frankenste...   \n",
       "3365  [{'cast_id': 2, 'character': 'Sergei', 'credit...   \n",
       "3366  [{'cast_id': 1001, 'character': 'Masha', 'cred...   \n",
       "3367  [{'cast_id': 3, 'character': 'Xiao Wu', 'credi...   \n",
       "3368  [{'cast_id': 3, 'character': 'All the members ...   \n",
       "\n",
       "                                                   crew  \n",
       "0     [{'credit_id': '52fe4292c3a36847f802916d', 'de...  \n",
       "1     [{'credit_id': '52fe44959251416c75039da9', 'de...  \n",
       "2     [{'credit_id': '52fe426ec3a36847f801e14b', 'de...  \n",
       "3     [{'credit_id': '52fe42f4c3a36847f802f69f', 'de...  \n",
       "4     [{'credit_id': '52fe424dc3a36847f80139cd', 'de...  \n",
       "...                                                 ...  \n",
       "3364  [{'credit_id': '52fe4386c3a36847f805ae49', 'de...  \n",
       "3365  [{'credit_id': '52fe46cdc3a368484e0a475d', 'de...  \n",
       "3366  [{'credit_id': '52fe4a1c9251416c750de11b', 'de...  \n",
       "3367  [{'credit_id': '52fe4819c3a36847f8157c9f', 'de...  \n",
       "3368  [{'credit_id': '52fe478dc3a36847f813bd6b', 'de...  \n",
       "\n",
       "[3365 rows x 7 columns]"
      ]
     },
     "execution_count": 441,
     "metadata": {},
     "output_type": "execute_result"
    }
   ],
   "source": [
    "movies.drop_duplicates(subset='imdb_id', keep='first', inplace=False)"
   ]
  },
  {
   "cell_type": "code",
   "execution_count": 442,
   "id": "3e293bf5-8df5-43a2-a6b9-1fc938b88c56",
   "metadata": {},
   "outputs": [
    {
     "data": {
      "text/html": [
       "<div>\n",
       "<style scoped>\n",
       "    .dataframe tbody tr th:only-of-type {\n",
       "        vertical-align: middle;\n",
       "    }\n",
       "\n",
       "    .dataframe tbody tr th {\n",
       "        vertical-align: top;\n",
       "    }\n",
       "\n",
       "    .dataframe thead th {\n",
       "        text-align: right;\n",
       "    }\n",
       "</style>\n",
       "<table border=\"1\" class=\"dataframe\">\n",
       "  <thead>\n",
       "    <tr style=\"text-align: right;\">\n",
       "      <th></th>\n",
       "      <th>imdb_id</th>\n",
       "      <th>id</th>\n",
       "      <th>title</th>\n",
       "      <th>overview</th>\n",
       "      <th>genres</th>\n",
       "      <th>cast</th>\n",
       "      <th>crew</th>\n",
       "    </tr>\n",
       "  </thead>\n",
       "  <tbody>\n",
       "    <tr>\n",
       "      <th>0</th>\n",
       "      <td>tt0113277</td>\n",
       "      <td>949</td>\n",
       "      <td>Heat</td>\n",
       "      <td>Obsessive master thief, Neil McCauley leads a ...</td>\n",
       "      <td>[{'id': 28, 'name': 'Action'}, {'id': 80, 'nam...</td>\n",
       "      <td>[{'cast_id': 25, 'character': 'Lt. Vincent Han...</td>\n",
       "      <td>[{'credit_id': '52fe4292c3a36847f802916d', 'de...</td>\n",
       "    </tr>\n",
       "    <tr>\n",
       "      <th>1</th>\n",
       "      <td>tt0114319</td>\n",
       "      <td>11860</td>\n",
       "      <td>Sabrina</td>\n",
       "      <td>An ugly duckling having undergone a remarkable...</td>\n",
       "      <td>[{'id': 35, 'name': 'Comedy'}, {'id': 10749, '...</td>\n",
       "      <td>[{'cast_id': 1, 'character': 'Linus Larrabee',...</td>\n",
       "      <td>[{'credit_id': '52fe44959251416c75039da9', 'de...</td>\n",
       "    </tr>\n",
       "    <tr>\n",
       "      <th>2</th>\n",
       "      <td>tt0113189</td>\n",
       "      <td>710</td>\n",
       "      <td>GoldenEye</td>\n",
       "      <td>James Bond must unmask the mysterious head of ...</td>\n",
       "      <td>[{'id': 12, 'name': 'Adventure'}, {'id': 28, '...</td>\n",
       "      <td>[{'cast_id': 1, 'character': 'James Bond', 'cr...</td>\n",
       "      <td>[{'credit_id': '52fe426ec3a36847f801e14b', 'de...</td>\n",
       "    </tr>\n",
       "    <tr>\n",
       "      <th>3</th>\n",
       "      <td>tt0112760</td>\n",
       "      <td>1408</td>\n",
       "      <td>Cutthroat Island</td>\n",
       "      <td>Morgan Adams and her slave, William Shaw, are ...</td>\n",
       "      <td>[{'id': 28, 'name': 'Action'}, {'id': 12, 'nam...</td>\n",
       "      <td>[{'cast_id': 1, 'character': 'Morgan Adams', '...</td>\n",
       "      <td>[{'credit_id': '52fe42f4c3a36847f802f69f', 'de...</td>\n",
       "    </tr>\n",
       "    <tr>\n",
       "      <th>4</th>\n",
       "      <td>tt0112641</td>\n",
       "      <td>524</td>\n",
       "      <td>Casino</td>\n",
       "      <td>The life of the gambling paradise – Las Vegas ...</td>\n",
       "      <td>[{'id': 18, 'name': 'Drama'}, {'id': 80, 'name...</td>\n",
       "      <td>[{'cast_id': 4, 'character': \"Sam 'Ace' Rothst...</td>\n",
       "      <td>[{'credit_id': '52fe424dc3a36847f80139cd', 'de...</td>\n",
       "    </tr>\n",
       "  </tbody>\n",
       "</table>\n",
       "</div>"
      ],
      "text/plain": [
       "     imdb_id     id             title  \\\n",
       "0  tt0113277    949              Heat   \n",
       "1  tt0114319  11860           Sabrina   \n",
       "2  tt0113189    710         GoldenEye   \n",
       "3  tt0112760   1408  Cutthroat Island   \n",
       "4  tt0112641    524            Casino   \n",
       "\n",
       "                                            overview  \\\n",
       "0  Obsessive master thief, Neil McCauley leads a ...   \n",
       "1  An ugly duckling having undergone a remarkable...   \n",
       "2  James Bond must unmask the mysterious head of ...   \n",
       "3  Morgan Adams and her slave, William Shaw, are ...   \n",
       "4  The life of the gambling paradise – Las Vegas ...   \n",
       "\n",
       "                                              genres  \\\n",
       "0  [{'id': 28, 'name': 'Action'}, {'id': 80, 'nam...   \n",
       "1  [{'id': 35, 'name': 'Comedy'}, {'id': 10749, '...   \n",
       "2  [{'id': 12, 'name': 'Adventure'}, {'id': 28, '...   \n",
       "3  [{'id': 28, 'name': 'Action'}, {'id': 12, 'nam...   \n",
       "4  [{'id': 18, 'name': 'Drama'}, {'id': 80, 'name...   \n",
       "\n",
       "                                                cast  \\\n",
       "0  [{'cast_id': 25, 'character': 'Lt. Vincent Han...   \n",
       "1  [{'cast_id': 1, 'character': 'Linus Larrabee',...   \n",
       "2  [{'cast_id': 1, 'character': 'James Bond', 'cr...   \n",
       "3  [{'cast_id': 1, 'character': 'Morgan Adams', '...   \n",
       "4  [{'cast_id': 4, 'character': \"Sam 'Ace' Rothst...   \n",
       "\n",
       "                                                crew  \n",
       "0  [{'credit_id': '52fe4292c3a36847f802916d', 'de...  \n",
       "1  [{'credit_id': '52fe44959251416c75039da9', 'de...  \n",
       "2  [{'credit_id': '52fe426ec3a36847f801e14b', 'de...  \n",
       "3  [{'credit_id': '52fe42f4c3a36847f802f69f', 'de...  \n",
       "4  [{'credit_id': '52fe424dc3a36847f80139cd', 'de...  "
      ]
     },
     "execution_count": 442,
     "metadata": {},
     "output_type": "execute_result"
    }
   ],
   "source": [
    "movies.head(5)"
   ]
  },
  {
   "cell_type": "code",
   "execution_count": 443,
   "id": "f2972fd3-b412-4357-898d-433afdcb3447",
   "metadata": {},
   "outputs": [
    {
     "data": {
      "text/plain": [
       "imdb_id      1\n",
       "id           0\n",
       "title        3\n",
       "overview    28\n",
       "genres       0\n",
       "cast         0\n",
       "crew         0\n",
       "dtype: int64"
      ]
     },
     "execution_count": 443,
     "metadata": {},
     "output_type": "execute_result"
    }
   ],
   "source": [
    "movies.isnull().sum()"
   ]
  },
  {
   "cell_type": "code",
   "execution_count": 444,
   "id": "10e18899-77d8-4f68-a201-b6be45a0504e",
   "metadata": {},
   "outputs": [],
   "source": [
    "movies = movies.dropna(subset=[\"overview\",\"title\",\"imdb_id\"], inplace=False)"
   ]
  },
  {
   "cell_type": "code",
   "execution_count": 445,
   "id": "a0bd0df6-ce90-407c-95b0-064ee639f1ba",
   "metadata": {},
   "outputs": [
    {
     "data": {
      "text/plain": [
       "imdb_id     0\n",
       "id          0\n",
       "title       0\n",
       "overview    0\n",
       "genres      0\n",
       "cast        0\n",
       "crew        0\n",
       "dtype: int64"
      ]
     },
     "execution_count": 445,
     "metadata": {},
     "output_type": "execute_result"
    }
   ],
   "source": [
    "movies.isnull().sum()"
   ]
  },
  {
   "cell_type": "code",
   "execution_count": 446,
   "id": "662c3668-fcf7-46d4-891d-4cc911c8209b",
   "metadata": {},
   "outputs": [
    {
     "data": {
      "text/plain": [
       "(3337, 7)"
      ]
     },
     "execution_count": 446,
     "metadata": {},
     "output_type": "execute_result"
    }
   ],
   "source": [
    "movies.shape"
   ]
  },
  {
   "cell_type": "code",
   "execution_count": 447,
   "id": "b66fb3b5-f6cf-41b1-a80d-15778e8b259a",
   "metadata": {},
   "outputs": [
    {
     "data": {
      "text/plain": [
       "\"[{'id': 28, 'name': 'Action'}, {'id': 80, 'name': 'Crime'}, {'id': 18, 'name': 'Drama'}, {'id': 53, 'name': 'Thriller'}]\""
      ]
     },
     "execution_count": 447,
     "metadata": {},
     "output_type": "execute_result"
    }
   ],
   "source": [
    "movie.iloc[0].genres"
   ]
  },
  {
   "cell_type": "code",
   "execution_count": 448,
   "id": "b5791b54-01f9-4cb7-9ff6-7f9b4b107938",
   "metadata": {},
   "outputs": [],
   "source": [
    "import ast"
   ]
  },
  {
   "cell_type": "code",
   "execution_count": 449,
   "id": "2fcea079-7b45-423f-9496-3d7a42f9d186",
   "metadata": {},
   "outputs": [],
   "source": [
    "def convert(obj):\n",
    "    L = []\n",
    "    for i in ast.literal_eval(obj):\n",
    "        L.append(i['name'])\n",
    "    return L"
   ]
  },
  {
   "cell_type": "code",
   "execution_count": 450,
   "id": "95c392ce-22e3-4052-a883-aea04d2ca94e",
   "metadata": {},
   "outputs": [],
   "source": [
    "movies[\"genres\"]=movies[\"genres\"].apply(convert)"
   ]
  },
  {
   "cell_type": "code",
   "execution_count": 451,
   "id": "d333f4bf-71d3-4eef-aba6-2c8b4d0e920e",
   "metadata": {},
   "outputs": [
    {
     "data": {
      "text/plain": [
       "0       [Action, Crime, Drama, Thriller]\n",
       "1                      [Comedy, Romance]\n",
       "2          [Adventure, Action, Thriller]\n",
       "3                    [Action, Adventure]\n",
       "4                         [Drama, Crime]\n",
       "                      ...               \n",
       "3364           [Horror, Science Fiction]\n",
       "3365                    [Romance, Drama]\n",
       "3366                   [Comedy, Romance]\n",
       "3367                    [Drama, Foreign]\n",
       "3368         [Fantasy, Action, Thriller]\n",
       "Name: genres, Length: 3337, dtype: object"
      ]
     },
     "execution_count": 451,
     "metadata": {},
     "output_type": "execute_result"
    }
   ],
   "source": [
    "movies[\"genres\"]"
   ]
  },
  {
   "cell_type": "code",
   "execution_count": 452,
   "id": "022823f1-5abd-4e61-9f30-b44875c72f44",
   "metadata": {},
   "outputs": [
    {
     "data": {
      "text/plain": [
       "'[{\\'cast_id\\': 25, \\'character\\': \\'Lt. Vincent Hanna\\', \\'credit_id\\': \\'52fe4292c3a36847f80291f5\\', \\'gender\\': 2, \\'id\\': 1158, \\'name\\': \\'Al Pacino\\', \\'order\\': 0, \\'profile_path\\': \\'/ks7Ba8x9fJUlP9decBr6Dh5mThX.jpg\\'}, {\\'cast_id\\': 26, \\'character\\': \\'Neil McCauley\\', \\'credit_id\\': \\'52fe4292c3a36847f80291f9\\', \\'gender\\': 2, \\'id\\': 380, \\'name\\': \\'Robert De Niro\\', \\'order\\': 1, \\'profile_path\\': \\'/lvTSwUcvJRLAJ2FB5qFaukel516.jpg\\'}, {\\'cast_id\\': 27, \\'character\\': \\'Chris Shiherlis\\', \\'credit_id\\': \\'52fe4292c3a36847f80291fd\\', \\'gender\\': 2, \\'id\\': 5576, \\'name\\': \\'Val Kilmer\\', \\'order\\': 2, \\'profile_path\\': \\'/AlhPeiH8R4reMNGNQ9ag1FPbuW9.jpg\\'}, {\\'cast_id\\': 28, \\'character\\': \\'Nate\\', \\'credit_id\\': \\'52fe4292c3a36847f8029201\\', \\'gender\\': 2, \\'id\\': 10127, \\'name\\': \\'Jon Voight\\', \\'order\\': 3, \\'profile_path\\': \\'/c7BvyqlvqDkfkFqSBUCiR21fvTh.jpg\\'}, {\\'cast_id\\': 29, \\'character\\': \\'Michael Cheritto\\', \\'credit_id\\': \\'52fe4292c3a36847f8029205\\', \\'gender\\': 2, \\'id\\': 3197, \\'name\\': \\'Tom Sizemore\\', \\'order\\': 4, \\'profile_path\\': \\'/soINOuacuiThRb2LyPD4tTWve7C.jpg\\'}, {\\'cast_id\\': 30, \\'character\\': \\'Justine Hanna\\', \\'credit_id\\': \\'52fe4292c3a36847f8029209\\', \\'gender\\': 1, \\'id\\': 6200, \\'name\\': \\'Diane Venora\\', \\'order\\': 5, \\'profile_path\\': \\'/3k7w5Y7gTAxN1JML7jhN8F8rVrS.jpg\\'}, {\\'cast_id\\': 31, \\'character\\': \\'Eady\\', \\'credit_id\\': \\'52fe4292c3a36847f802920d\\', \\'gender\\': 1, \\'id\\': 15851, \\'name\\': \\'Amy Brenneman\\', \\'order\\': 6, \\'profile_path\\': \\'/xC408loYq7tQlkpS5YH68SoaDND.jpg\\'}, {\\'cast_id\\': 32, \\'character\\': \\'Charlene Shiherlis\\', \\'credit_id\\': \\'52fe4292c3a36847f8029211\\', \\'gender\\': 1, \\'id\\': 15852, \\'name\\': \\'Ashley Judd\\', \\'order\\': 7, \\'profile_path\\': \\'/3bgmRDt02iGFVjhqCqstVyEeiwG.jpg\\'}, {\\'cast_id\\': 33, \\'character\\': \\'Sergeant Drucker\\', \\'credit_id\\': \\'52fe4292c3a36847f8029215\\', \\'gender\\': 2, \\'id\\': 34, \\'name\\': \\'Mykelti Williamson\\', \\'order\\': 8, \\'profile_path\\': \\'/8TTxzpuvvpw2tB8xZBCDslYupNU.jpg\\'}, {\\'cast_id\\': 38, \\'character\\': \\'Lauren Gustafson\\', \\'credit_id\\': \\'52fe4292c3a36847f8029229\\', \\'gender\\': 1, \\'id\\': 524, \\'name\\': \\'Natalie Portman\\', \\'order\\': 9, \\'profile_path\\': \\'/1oEP6OyYZgyLubgJXifx2GO78c7.jpg\\'}, {\\'cast_id\\': 35, \\'character\\': \\'Bosko\\', \\'credit_id\\': \\'52fe4292c3a36847f802921d\\', \\'gender\\': 2, \\'id\\': 15854, \\'name\\': \\'Ted Levine\\', \\'order\\': 10, \\'profile_path\\': \\'/7O3vgqgicfNeGr3leC0qB074fjX.jpg\\'}, {\\'cast_id\\': 39, \\'character\\': \\'Kelso\\', \\'credit_id\\': \\'52fe4292c3a36847f802922d\\', \\'gender\\': 2, \\'id\\': 119232, \\'name\\': \\'Tom Noonan\\', \\'order\\': 11, \\'profile_path\\': \\'/cpINV4Q8IeVgSLyKz9ldzzAGr5n.jpg\\'}, {\\'cast_id\\': 41, \\'character\\': \\'Richard Torena\\', \\'credit_id\\': \\'52fe4292c3a36847f8029237\\', \\'gender\\': 2, \\'id\\': 31004, \\'name\\': \\'Tone Loc\\', \\'order\\': 12, \\'profile_path\\': \\'/o940ZhEYQYrOJdhRnmPrYoc9iOq.jpg\\'}, {\\'cast_id\\': 42, \\'character\\': \\'Alan Marciano\\', \\'credit_id\\': \\'52fe4292c3a36847f802923b\\', \\'gender\\': 2, \\'id\\': 5587, \\'name\\': \\'Hank Azaria\\', \\'order\\': 13, \\'profile_path\\': \\'/3vIdbP73nKnKpMAcgGWoALPF2JO.jpg\\'}, {\\'cast_id\\': 34, \\'character\\': \\'Detective Casals\\', \\'credit_id\\': \\'52fe4292c3a36847f8029219\\', \\'gender\\': 2, \\'id\\': 15853, \\'name\\': \\'Wes Studi\\', \\'order\\': 14, \\'profile_path\\': \\'/2b1hfAOoVjU7HoSbyHzGjl8DWs1.jpg\\'}, {\\'cast_id\\': 36, \\'character\\': \\'Donald Breedan\\', \\'credit_id\\': \\'52fe4292c3a36847f8029221\\', \\'gender\\': 2, \\'id\\': 352, \\'name\\': \\'Dennis Haysbert\\', \\'order\\': 15, \\'profile_path\\': \\'/mn5Nc5Q31GslpVVWs8p41W4TBma.jpg\\'}, {\\'cast_id\\': 46, \\'character\\': \\'Trejo\\', \\'credit_id\\': \\'52fe4292c3a36847f802924b\\', \\'gender\\': 2, \\'id\\': 11160, \\'name\\': \\'Danny Trejo\\', \\'order\\': 16, \\'profile_path\\': \\'/7b8cDfrmeheQbgryfCm7MeJOxxM.jpg\\'}, {\\'cast_id\\': 47, \\'character\\': \\'Hugh Benny\\', \\'credit_id\\': \\'52fe4292c3a36847f802924f\\', \\'gender\\': 2, \\'id\\': 9290, \\'name\\': \\'Henry Rollins\\', \\'order\\': 17, \\'profile_path\\': \\'/2E0cZdoJsdt1Lv4waG3s6fsfJeU.jpg\\'}, {\\'cast_id\\': 37, \\'character\\': \\'Roger Van Zant\\', \\'credit_id\\': \\'52fe4292c3a36847f8029225\\', \\'gender\\': 2, \\'id\\': 886, \\'name\\': \\'William Fichtner\\', \\'order\\': 18, \\'profile_path\\': \\'/apj1bgzZI2efSdJolfp6KjhG8CF.jpg\\'}, {\\'cast_id\\': 43, \\'character\\': \\'Waingro\\', \\'credit_id\\': \\'52fe4292c3a36847f802923f\\', \\'gender\\': 2, \\'id\\': 34839, \\'name\\': \\'Kevin Gage\\', \\'order\\': 19, \\'profile_path\\': \\'/egIApa0PPsHkAwrGnOAUtdqO6CQ.jpg\\'}, {\\'cast_id\\': 44, \\'character\\': \\'Elaine Cheritto\\', \\'credit_id\\': \\'52fe4292c3a36847f8029243\\', \\'gender\\': 1, \\'id\\': 4158, \\'name\\': \\'Susan Traylor\\', \\'order\\': 20, \\'profile_path\\': \\'/A3ZpoAui1ure4Nx2b83wUMI8lvv.jpg\\'}, {\\'cast_id\\': 48, \\'character\\': \\'Schwartz\\', \\'credit_id\\': \\'52fe4292c3a36847f8029253\\', \\'gender\\': 2, \\'id\\': 86602, \\'name\\': \\'Jerry Trimble\\', \\'order\\': 21, \\'profile_path\\': \\'/oDK7NCnz2z2BFV8YquEpj8PBwed.jpg\\'}, {\\'cast_id\\': 50, \\'character\\': \\'Albert Torena\\', \\'credit_id\\': \\'52fe4292c3a36847f802925b\\', \\'gender\\': 2, \\'id\\': 158452, \\'name\\': \\'Ricky Harris\\', \\'order\\': 22, \\'profile_path\\': \\'/eJEzFSHTjGdUz1JDThdTR5C1Jrd.jpg\\'}, {\\'cast_id\\': 54, \\'character\\': \\'Dr. Bob\\', \\'credit_id\\': \\'52fe4292c3a36847f802926b\\', \\'gender\\': 2, \\'id\\': 12799, \\'name\\': \\'Jeremy Piven\\', \\'order\\': 23, \\'profile_path\\': \\'/qtho4ZUcValnVvscTGgyWfUr4VP.jpg\\'}, {\\'cast_id\\': 55, \\'character\\': \\'Ralph\\', \\'credit_id\\': \\'52fe4292c3a36847f802926f\\', \\'gender\\': 2, \\'id\\': 3982, \\'name\\': \\'Xander Berkeley\\', \\'order\\': 24, \\'profile_path\\': \\'/vlZ9FDMk2Xd1WHixPKxnheZoXgR.jpg\\'}, {\\'cast_id\\': 51, \\'character\\': \\'Anna Trejo\\', \\'credit_id\\': \\'52fe4292c3a36847f802925f\\', \\'gender\\': 1, \\'id\\': 181343, \\'name\\': \\'Begonya Plaza\\', \\'order\\': 25, \\'profile_path\\': \\'/2TtFPBtz0Bd3CXAc4W5K6zF66RY.jpg\\'}, {\\'cast_id\\': 56, \\'character\\': \\'Armoured Guard\\', \\'credit_id\\': \\'52fe4292c3a36847f8029273\\', \\'gender\\': 2, \\'id\\': 81687, \\'name\\': \\'Rick Avery\\', \\'order\\': 26, \\'profile_path\\': \\'/rXar2OrwkorJyQ9dRGf18zUEByW.jpg\\'}, {\\'cast_id\\': 52, \\'character\\': \"Hooker\\'s Mother\", \\'credit_id\\': \\'52fe4292c3a36847f8029263\\', \\'gender\\': 0, \\'id\\': 91756, \\'name\\': \\'Hazelle Goodman\\', \\'order\\': 27, \\'profile_path\\': \\'/kTa2cn8cuJdxKJBqFnYHibIknI9.jpg\\'}, {\\'cast_id\\': 53, \\'character\\': \\'Timmons\\', \\'credit_id\\': \\'52fe4292c3a36847f8029267\\', \\'gender\\': 2, \\'id\\': 160970, \\'name\\': \\'Ray Buktenica\\', \\'order\\': 28, \\'profile_path\\': \\'/aMBLygqfsJv3QrBCvvZ7wMc3Ejq.jpg\\'}, {\\'cast_id\\': 59, \\'character\\': \\'Shooter at Drive-in\\', \\'credit_id\\': \\'52fe4292c3a36847f802927f\\', \\'gender\\': 0, \\'id\\': 175600, \\'name\\': \\'Max Daniels\\', \\'order\\': 29, \\'profile_path\\': \\'/5zjSVtxyDExuf1913re1lG3k0Q3.jpg\\'}, {\\'cast_id\\': 60, \\'character\\': \\'Driver at Drive-in\\', \\'credit_id\\': \\'52fe4292c3a36847f8029283\\', \\'gender\\': 0, \\'id\\': 12879, \\'name\\': \\'Vince Deadrick Jr.\\', \\'order\\': 30, \\'profile_path\\': \\'/z4HIKOQGQj8QXozFpQhj43xlmHm.jpg\\'}, {\\'cast_id\\': 96, \\'character\\': \\'Officer Bruce\\', \\'credit_id\\': \\'56be773e9251417359005063\\', \\'gender\\': 2, \\'id\\': 9258, \\'name\\': \\'Steven Ford\\', \\'order\\': 31, \\'profile_path\\': \\'/iw8CUyekmYkGwmg0bp7foY4KvrH.jpg\\'}, {\\'cast_id\\': 97, \\'character\\': \\'Claudia\\', \\'credit_id\\': \\'56be7769c3a36817f200506f\\', \\'gender\\': 1, \\'id\\': 167501, \\'name\\': \\'Farrah Forke\\', \\'order\\': 32, \\'profile_path\\': \\'/gmKm7TiZduyyaLlNgWnQEZHTc5Q.jpg\\'}, {\\'cast_id\\': 99, \\'character\\': \"Bosko\\'s Date\", \\'credit_id\\': \\'56be794dc3a36818020054bd\\', \\'gender\\': 1, \\'id\\': 95145, \\'name\\': \\'Patricia Healy\\', \\'order\\': 33, \\'profile_path\\': \\'/RsHWe8vW3Hzbp8FeeEVqOD6Kux.jpg\\'}, {\\'cast_id\\': 100, \\'character\\': \\'Sergeant Heinz\\', \\'credit_id\\': \\'56be79839251417347004f69\\', \\'gender\\': 2, \\'id\\': 58535, \\'name\\': \\'Paul Herman\\', \\'order\\': 34, \\'profile_path\\': \\'/vaK8wxkMeKJdZEdGUufyV0Ma24M.jpg\\'}, {\\'cast_id\\': 101, \\'character\\': \\'Rachel\\', \\'credit_id\\': \\'56be79cec3a36817f200511b\\', \\'gender\\': 1, \\'id\\': 161939, \\'name\\': \\'Cindy Katz\\', \\'order\\': 35, \\'profile_path\\': \\'/eENk49BVUS9grR2ffwEsYh9Wl69.jpg\\'}, {\\'cast_id\\': 102, \\'character\\': \\'Captain Jackson\\', \\'credit_id\\': \\'56be79fa9251417344004ea0\\', \\'gender\\': 0, \\'id\\': 6580, \\'name\\': \\'Brian Libby\\', \\'order\\': 36, \\'profile_path\\': \\'/lvY7hpUtU12BUD8mwQqFymnsxFI.jpg\\'}, {\\'cast_id\\': 104, \\'character\\': \\'Harry Dieter\\', \\'credit_id\\': \\'56be7a8ac3a36817f200516d\\', \\'gender\\': 2, \\'id\\': 95796, \\'name\\': \\'Dan Martin\\', \\'order\\': 37, \\'profile_path\\': \\'/u24mFuqwEE7kguXK32SS1UzIQzJ.jpg\\'}, {\\'cast_id\\': 109, \\'character\\': \\'Bank Guard\\', \\'credit_id\\': \\'56be7bafc3a36817ef005294\\', \\'gender\\': 0, \\'id\\': 166543, \\'name\\': \\'Mario Roberts\\', \\'order\\': 38, \\'profile_path\\': \\'/TVlt1SNz2zoF2hTqY4HM3MnWHz.jpg\\'}, {\\'cast_id\\': 110, \\'character\\': \\'Armoured Truck Driver\\', \\'credit_id\\': \\'56be7c61c3a36817ef0052cf\\', \\'gender\\': 0, \\'id\\': 43010, \\'name\\': \\'Thomas Rosales, Jr.\\', \\'order\\': 39, \\'profile_path\\': \\'/ffDrcpKGvjPgpcjd0t9T6EtQ2hz.jpg\\'}, {\\'cast_id\\': 112, \\'character\\': \\'Hostage Girl\\', \\'credit_id\\': \\'56be7db1925141735600517b\\', \\'gender\\': 1, \\'id\\': 37252, \\'name\\': \\'Yvonne Zima\\', \\'order\\': 40, \\'profile_path\\': \\'/dWA4Hsq8kkFXlmWERCoAh1OqK5M.jpg\\'}, {\\'cast_id\\': 116, \\'character\\': \\'1st SIS Detective in the hallway (uncredited)\\', \\'credit_id\\': \\'56be7ed4c3a36817f9005000\\', \\'gender\\': 0, \\'id\\': 1457709, \\'name\\': \\'Mick Gould\\', \\'order\\': 41, \\'profile_path\\': \\'/6BcVGV4fUITs2jaThbOq4GHlAFU.jpg\\'}, {\\'cast_id\\': 115, \\'character\\': \\'Solenko, Restaurant Manager (uncredited)\\', \\'credit_id\\': \\'56be7e6e92514173590052b3\\', \\'gender\\': 2, \\'id\\': 4971, \\'name\\': \\'Bud Cort\\', \\'order\\': 42, \\'profile_path\\': \\'/mwCVkL9BG1ZCF9icbcKjE8TCS7H.jpg\\'}, {\\'cast_id\\': 123, \\'character\\': \\'Castilian Woman (uncredited)\\', \\'credit_id\\': \\'56be80ed925141735900535e\\', \\'gender\\': 0, \\'id\\': 941147, \\'name\\': \\'Viviane Vives\\', \\'order\\': 43, \\'profile_path\\': \\'/rGHOmMfoykUQJTnryRAl2t4XXG6.jpg\\'}, {\\'cast_id\\': 45, \\'character\\': \\'Lillian\\', \\'credit_id\\': \\'52fe4292c3a36847f8029247\\', \\'gender\\': 1, \\'id\\': 17358, \\'name\\': \\'Kim Staunton\\', \\'order\\': 44, \\'profile_path\\': \\'/9CJmJ5l7DZAtZvdbltalwoV2NfH.jpg\\'}, {\\'cast_id\\': 49, \\'character\\': \\'Construction Clerk\\', \\'credit_id\\': \\'52fe4292c3a36847f8029257\\', \\'gender\\': 2, \\'id\\': 4790, \\'name\\': \\'Martin Ferrero\\', \\'order\\': 45, \\'profile_path\\': \\'/gTIclBDE9q6TFmOx7JIn32zTaVk.jpg\\'}, {\\'cast_id\\': 57, \\'character\\': \"Children\\'s Hospital Doctor\", \\'credit_id\\': \\'52fe4292c3a36847f8029277\\', \\'gender\\': 0, \\'id\\': 1090464, \\'name\\': \\'Brad Baldridge\\', \\'order\\': 46, \\'profile_path\\': None}, {\\'cast_id\\': 58, \\'character\\': \\'Dominick\\', \\'credit_id\\': \\'52fe4292c3a36847f802927b\\', \\'gender\\': 0, \\'id\\': 1090465, \\'name\\': \\'Andrew Camuccio\\', \\'order\\': 47, \\'profile_path\\': None}, {\\'cast_id\\': 94, \\'character\\': \\'Bartender\\', \\'credit_id\\': \\'56be231dc3a3681806004214\\', \\'gender\\': 0, \\'id\\': 1576419, \\'name\\': \\'Kenny Endoso\\', \\'order\\': 48, \\'profile_path\\': None}, {\\'cast_id\\': 95, \\'character\\': \"Casals\\' Date\", \\'credit_id\\': \\'56be7708c3a36817f200504f\\', \\'gender\\': 1, \\'id\\': 106714, \\'name\\': \\'Kimberly Flynn\\', \\'order\\': 49, \\'profile_path\\': None}, {\\'cast_id\\': 98, \\'character\\': \\'Marcia Drucker\\', \\'credit_id\\': \\'56be77fcc3a36817ef005164\\', \\'gender\\': 0, \\'id\\': 116153, \\'name\\': \\'Niki Harris\\', \\'order\\': 50, \\'profile_path\\': None}, {\\'cast_id\\': 103, \\'character\\': \\'Armoured Guard\\', \\'credit_id\\': \\'56be7a30c3a36817f2005154\\', \\'gender\\': 0, \\'id\\': 237923, \\'name\\': \\'Bill McIntosh\\', \\'order\\': 51, \\'profile_path\\': None}, {\\'cast_id\\': 105, \\'character\\': \\'Basketball Player\\', \\'credit_id\\': \\'56be7aabc3a36817f40053ec\\', \\'gender\\': 0, \\'id\\': 4047, \\'name\\': \\'Rick Marzan\\', \\'order\\': 52, \\'profile_path\\': None}, {\\'cast_id\\': 106, \\'character\\': \"Children\\'s Hospital Nurse\", \\'credit_id\\': \\'56be7aec9251417344004ee2\\', \\'gender\\': 0, \\'id\\': 57347, \\'name\\': \\'Terry Miller\\', \\'order\\': 53, \\'profile_path\\': None}, {\\'cast_id\\': 107, \\'character\\': \\'Detective\\', \\'credit_id\\': \\'56be7b44c3a368180200556a\\', \\'gender\\': 0, \\'id\\': 1576553, \\'name\\': \"Daniel O\\'Haco\", \\'order\\': 54, \\'profile_path\\': None}, {\\'cast_id\\': 111, \\'character\\': \\'Prostitute\\', \\'credit_id\\': \\'56be7d28c3a368180200560d\\', \\'gender\\': 1, \\'id\\': 218094, \\'name\\': \\'Kai Soremekun\\', \\'order\\': 55, \\'profile_path\\': None}, {\\'cast_id\\': 113, \\'character\\': \\'Bar Couple (uncredited)\\', \\'credit_id\\': \\'56be7e1c9251411d27000305\\', \\'gender\\': 0, \\'id\\': 1491009, \\'name\\': \\'Peter Blackwell\\', \\'order\\': 56, \\'profile_path\\': None}, {\\'cast_id\\': 114, \\'character\\': \\'Restaurant Patron (uncredited)\\', \\'credit_id\\': \\'56be7e45c3a36817ef005374\\', \\'gender\\': 0, \\'id\\': 1137847, \\'name\\': \\'Trevor Coppola\\', \\'order\\': 57, \\'profile_path\\': None}, {\\'cast_id\\': 118, \\'character\\': \\'Police Woman (uncredited)\\', \\'credit_id\\': \\'56be7f699251417344005036\\', \\'gender\\': 1, \\'id\\': 1504112, \\'name\\': \\'Mary Kircher\\', \\'order\\': 58, \\'profile_path\\': None}, {\\'cast_id\\': 119, \\'character\\': \\'Grocery Store Employee (uncredited)\\', \\'credit_id\\': \\'56be7fbd925141734d005299\\', \\'gender\\': 0, \\'id\\': 1504568, \\'name\\': \\'Darin Mangan\\', \\'order\\': 59, \\'profile_path\\': None}, {\\'cast_id\\': 120, \\'character\\': \\'Cusamano (uncredited)\\', \\'credit_id\\': \\'56be8014c3a36817ef00540a\\', \\'gender\\': 2, \\'id\\': 20625, \\'name\\': \\'Robert Miranda\\', \\'order\\': 60, \\'profile_path\\': None}, {\\'cast_id\\': 121, \\'character\\': \\'Grocery Store Cop (uncredited)\\', \\'credit_id\\': \\'56be8053c3a36817f40055b3\\', \\'gender\\': 2, \\'id\\': 1502517, \\'name\\': \\'Manny Perry\\', \\'order\\': 61, \\'profile_path\\': None}, {\\'cast_id\\': 122, \\'character\\': \\'Waitress (uncredited)\\', \\'credit_id\\': \\'56be80a8925141734400508d\\', \\'gender\\': 1, \\'id\\': 114625, \\'name\\': \\'Iva Franks Singer\\', \\'order\\': 62, \\'profile_path\\': None}, {\\'cast_id\\': 124, \\'character\\': \\'Bank Guard (uncredited)\\', \\'credit_id\\': \\'56be8132925141735900536f\\', \\'gender\\': 0, \\'id\\': 1576562, \\'name\\': \\'Tim Werner\\', \\'order\\': 63, \\'profile_path\\': None}, {\\'cast_id\\': 133, \\'character\\': \\'Ellis (uncredited)\\', \\'credit_id\\': \\'56d48f67925141799e013151\\', \\'gender\\': 2, \\'id\\': 1584544, \\'name\\': \\'Philip Ettington\\', \\'order\\': 64, \\'profile_path\\': None}]'"
      ]
     },
     "execution_count": 452,
     "metadata": {},
     "output_type": "execute_result"
    }
   ],
   "source": [
    "movies.iloc[0].cast"
   ]
  },
  {
   "cell_type": "code",
   "execution_count": 453,
   "id": "e80c1abc-58e5-45ce-92f3-89094bafd2f4",
   "metadata": {},
   "outputs": [],
   "source": [
    "import ast\n",
    "\n",
    "def convert2(obj):\n",
    "    if isinstance(obj, str):\n",
    "        try:\n",
    "            obj = ast.literal_eval(obj)\n",
    "        except ValueError:\n",
    "            return None\n",
    "    if isinstance(obj, list):\n",
    "        L = []\n",
    "        for item in obj:\n",
    "            L.append(item)\n",
    "        return L\n",
    "    return obj\n"
   ]
  },
  {
   "cell_type": "code",
   "execution_count": 456,
   "id": "fe9a6e5c-6659-4cf7-b7a6-73e9aec627b9",
   "metadata": {},
   "outputs": [],
   "source": [
    "movies[\"cast\"] = movies[\"cast\"].apply(convert2)"
   ]
  },
  {
   "cell_type": "code",
   "execution_count": 457,
   "id": "179f380e-81fd-4a6f-9068-66b91bcdf6ee",
   "metadata": {},
   "outputs": [
    {
     "data": {
      "text/plain": [
       "0       [{'cast_id': 25, 'character': 'Lt. Vincent Han...\n",
       "1       [{'cast_id': 1, 'character': 'Linus Larrabee',...\n",
       "2       [{'cast_id': 1, 'character': 'James Bond', 'cr...\n",
       "3       [{'cast_id': 1, 'character': 'Morgan Adams', '...\n",
       "4       [{'cast_id': 4, 'character': 'Sam 'Ace' Rothst...\n",
       "                              ...                        \n",
       "3364    [{'cast_id': 9, 'character': 'Baron Frankenste...\n",
       "3365    [{'cast_id': 2, 'character': 'Sergei', 'credit...\n",
       "3366    [{'cast_id': 1001, 'character': 'Masha', 'cred...\n",
       "3367    [{'cast_id': 3, 'character': 'Xiao Wu', 'credi...\n",
       "3368    [{'cast_id': 3, 'character': 'All the members ...\n",
       "Name: cast, Length: 3337, dtype: object"
      ]
     },
     "execution_count": 457,
     "metadata": {},
     "output_type": "execute_result"
    }
   ],
   "source": [
    "movies[\"cast\"]"
   ]
  },
  {
   "cell_type": "code",
   "execution_count": 458,
   "id": "39f761eb-9af5-4f0c-9e1f-f6a84061c62d",
   "metadata": {},
   "outputs": [
    {
     "data": {
      "text/plain": [
       "'[{\\'credit_id\\': \\'52fe4292c3a36847f802916d\\', \\'department\\': \\'Directing\\', \\'gender\\': 2, \\'id\\': 638, \\'job\\': \\'Director\\', \\'name\\': \\'Michael Mann\\', \\'profile_path\\': \\'/nKmUpRpuQIsYubR7vIxVKhkbaTW.jpg\\'}, {\\'credit_id\\': \\'52fe4292c3a36847f8029173\\', \\'department\\': \\'Writing\\', \\'gender\\': 2, \\'id\\': 638, \\'job\\': \\'Screenplay\\', \\'name\\': \\'Michael Mann\\', \\'profile_path\\': \\'/nKmUpRpuQIsYubR7vIxVKhkbaTW.jpg\\'}, {\\'credit_id\\': \\'52fe4292c3a36847f8029179\\', \\'department\\': \\'Production\\', \\'gender\\': 2, \\'id\\': 1254, \\'job\\': \\'Producer\\', \\'name\\': \\'Art Linson\\', \\'profile_path\\': \\'/dEtVivCXxQBtIzmJcUNupT1AB4H.jpg\\'}, {\\'credit_id\\': \\'52fe4292c3a36847f802917f\\', \\'department\\': \\'Production\\', \\'gender\\': 2, \\'id\\': 638, \\'job\\': \\'Producer\\', \\'name\\': \\'Michael Mann\\', \\'profile_path\\': \\'/nKmUpRpuQIsYubR7vIxVKhkbaTW.jpg\\'}, {\\'credit_id\\': \\'52fe4292c3a36847f8029185\\', \\'department\\': \\'Sound\\', \\'gender\\': 2, \\'id\\': 5581, \\'job\\': \\'Original Music Composer\\', \\'name\\': \\'Elliot Goldenthal\\', \\'profile_path\\': \\'/mr1rr5bQySCwp564E1Ag363SgLH.jpg\\'}, {\\'credit_id\\': \\'52fe4292c3a36847f802918b\\', \\'department\\': \\'Camera\\', \\'gender\\': 2, \\'id\\': 11099, \\'job\\': \\'Director of Photography\\', \\'name\\': \\'Dante Spinotti\\', \\'profile_path\\': \\'/vIb3GU52BvSIQh1MXZRFDVRnqsm.jpg\\'}, {\\'credit_id\\': \\'52fe4292c3a36847f8029191\\', \\'department\\': \\'Editing\\', \\'gender\\': 2, \\'id\\': 15840, \\'job\\': \\'Editor\\', \\'name\\': \\'Pasquale Buba\\', \\'profile_path\\': None}, {\\'credit_id\\': \\'52fe4292c3a36847f8029197\\', \\'department\\': \\'Editing\\', \\'gender\\': 0, \\'id\\': 15841, \\'job\\': \\'Editor\\', \\'name\\': \\'William Goldenberg\\', \\'profile_path\\': \\'/eOgoea8HbZt2TfLn0tDNI1TepSN.jpg\\'}, {\\'credit_id\\': \\'52fe4292c3a36847f802919d\\', \\'department\\': \\'Editing\\', \\'gender\\': 0, \\'id\\': 15842, \\'job\\': \\'Editor\\', \\'name\\': \\'Dov Hoenig\\', \\'profile_path\\': None}, {\\'credit_id\\': \\'52fe4292c3a36847f80291a3\\', \\'department\\': \\'Editing\\', \\'gender\\': 2, \\'id\\': 1047, \\'job\\': \\'Editor\\', \\'name\\': \\'Tom Rolf\\', \\'profile_path\\': None}, {\\'credit_id\\': \\'52fe4292c3a36847f80291a9\\', \\'department\\': \\'Production\\', \\'gender\\': 1, \\'id\\': 897, \\'job\\': \\'Casting\\', \\'name\\': \\'Bonnie Timmermann\\', \\'profile_path\\': \\'/jM8QANtq0v7Eqy8ZYtKot27nsfK.jpg\\'}, {\\'credit_id\\': \\'52fe4292c3a36847f80291af\\', \\'department\\': \\'Art\\', \\'gender\\': 2, \\'id\\': 11411, \\'job\\': \\'Production Design\\', \\'name\\': \\'Neil Spisak\\', \\'profile_path\\': None}, {\\'credit_id\\': \\'52fe4292c3a36847f80291b5\\', \\'department\\': \\'Art\\', \\'gender\\': 1, \\'id\\': 15843, \\'job\\': \\'Art Direction\\', \\'name\\': \\'Margie Stone McShirley\\', \\'profile_path\\': None}, {\\'credit_id\\': \\'52fe4292c3a36847f80291bb\\', \\'department\\': \\'Costume & Make-Up\\', \\'gender\\': 1, \\'id\\': 8527, \\'job\\': \\'Costume Design\\', \\'name\\': \\'Deborah Lynn Scott\\', \\'profile_path\\': None}, {\\'credit_id\\': \\'52fe4292c3a36847f80291cd\\', \\'department\\': \\'Sound\\', \\'gender\\': 2, \\'id\\': 1305, \\'job\\': \\'Music Editor\\', \\'name\\': \\'Bill Abbott\\', \\'profile_path\\': None}, {\\'credit_id\\': \\'52fe4292c3a36847f80291d3\\', \\'department\\': \\'Sound\\', \\'gender\\': 0, \\'id\\': 14765, \\'job\\': \\'Supervising Sound Editor\\', \\'name\\': \\'Per Hallberg\\', \\'profile_path\\': None}, {\\'credit_id\\': \\'52fe4292c3a36847f80291d9\\', \\'department\\': \\'Crew\\', \\'gender\\': 0, \\'id\\': 15847, \\'job\\': \\'Special Effects Coordinator\\', \\'name\\': \\'Terry D. Frazee\\', \\'profile_path\\': None}, {\\'credit_id\\': \\'52fe4292c3a36847f80291df\\', \\'department\\': \\'Crew\\', \\'gender\\': 0, \\'id\\': 15848, \\'job\\': \\'Special Effects\\', \\'name\\': \\'Paul H. Haines Jr.\\', \\'profile_path\\': None}, {\\'credit_id\\': \\'52fe4292c3a36847f80291e5\\', \\'department\\': \\'Visual Effects\\', \\'gender\\': 0, \\'id\\': 15849, \\'job\\': \\'Visual Effects Supervisor\\', \\'name\\': \\'Neil Krepela\\', \\'profile_path\\': None}, {\\'credit_id\\': \\'52fe4292c3a36847f80291eb\\', \\'department\\': \\'Crew\\', \\'gender\\': 2, \\'id\\': 13458, \\'job\\': \\'Stunt Coordinator\\', \\'name\\': \\'Joel Kramer\\', \\'profile_path\\': None}, {\\'credit_id\\': \\'52fe4292c3a36847f80291f1\\', \\'department\\': \\'Crew\\', \\'gender\\': 2, \\'id\\': 15850, \\'job\\': \\'Stunts\\', \\'name\\': \\'Tony Brubaker\\', \\'profile_path\\': None}, {\\'credit_id\\': \\'52fe4292c3a36847f8029233\\', \\'department\\': \\'Art\\', \\'gender\\': 1, \\'id\\': 13677, \\'job\\': \\'Set Decoration\\', \\'name\\': \\'Anne H. Ahrens\\', \\'profile_path\\': None}, {\\'credit_id\\': \\'564717adc3a3682611002c07\\', \\'department\\': \\'Costume & Make-Up\\', \\'gender\\': 0, \\'id\\': 1535950, \\'job\\': \\'Costume Supervisor\\', \\'name\\': \\'Darryl M. Athons\\', \\'profile_path\\': None}, {\\'credit_id\\': \\'564717d0c3a3682620002d27\\', \\'department\\': \\'Directing\\', \\'gender\\': 1, \\'id\\': 1478953, \\'job\\': \\'Script Supervisor\\', \\'name\\': \\'Cate Hardman\\', \\'profile_path\\': None}, {\\'credit_id\\': \\'56bf68e39251417359008e89\\', \\'department\\': \\'Production\\', \\'gender\\': 0, \\'id\\': 1424046, \\'job\\': \\'Casting\\', \\'name\\': \\'Jane Brody\\', \\'profile_path\\': None}, {\\'credit_id\\': \\'57190686c3a3680160004721\\', \\'department\\': \\'Crew\\', \\'gender\\': 0, \\'id\\': 1550830, \\'job\\': \\'Special Effects\\', \\'name\\': \\'Donald Frazee\\', \\'profile_path\\': None}, {\\'credit_id\\': \\'564716d9c3a368260c002d5a\\', \\'department\\': \\'Art\\', \\'gender\\': 0, \\'id\\': 1479277, \\'job\\': \\'Art Department Coordinator\\', \\'name\\': \\'Oscar Mazzola\\', \\'profile_path\\': None}, {\\'credit_id\\': \\'564716fe9251413acc002d2a\\', \\'department\\': \\'Art\\', \\'gender\\': 0, \\'id\\': 4727, \\'job\\': \\'Assistant Art Director\\', \\'name\\': \\'Dianne Wager\\', \\'profile_path\\': None}, {\\'credit_id\\': \\'56471718c3a3682605002c62\\', \\'department\\': \\'Art\\', \\'gender\\': 0, \\'id\\': 1404308, \\'job\\': \\'Construction Coordinator\\', \\'name\\': \\'Anthony Lattanzio\\', \\'profile_path\\': None}, {\\'credit_id\\': \\'564717949251413e7f002a36\\', \\'department\\': \\'Costume & Make-Up\\', \\'gender\\': 0, \\'id\\': 1535949, \\'job\\': \\'Assistant Costume Designer\\', \\'name\\': \\'David Le Vey\\', \\'profile_path\\': None}, {\\'credit_id\\': \\'564717f19251413adb002c49\\', \\'department\\': \\'Costume & Make-Up\\', \\'gender\\': 2, \\'id\\': 8870, \\'job\\': \\'Hairstylist\\', \\'name\\': \\'Leonard Engelman\\', \\'profile_path\\': None}, {\\'credit_id\\': \\'5647180a9251413adb002c52\\', \\'department\\': \\'Costume & Make-Up\\', \\'gender\\': 1, \\'id\\': 16551, \\'job\\': \\'Hairstylist\\', \\'name\\': \\'Ilona Herman\\', \\'profile_path\\': None}, {\\'credit_id\\': \\'56471821c3a3682611002c1e\\', \\'department\\': \\'Costume & Make-Up\\', \\'gender\\': 0, \\'id\\': 15846, \\'job\\': \\'Key Hair Stylist\\', \\'name\\': \\'Vera Mitchell\\', \\'profile_path\\': None}, {\\'credit_id\\': \\'5647183bc3a3682611002c24\\', \\'department\\': \\'Costume & Make-Up\\', \\'gender\\': 0, \\'id\\': 15845, \\'job\\': \\'Makeup Artist\\', \\'name\\': \\'John Caglione Jr.\\', \\'profile_path\\': None}, {\\'credit_id\\': \\'5647184fc3a3682611002c2a\\', \\'department\\': \\'Costume & Make-Up\\', \\'gender\\': 2, \\'id\\': 14653, \\'job\\': \\'Makeup Artist\\', \\'name\\': \\'Ken Diaz\\', \\'profile_path\\': \\'/evDWsHoxnKp5saXTjVOMFXJnX3O.jpg\\'}, {\\'credit_id\\': \\'5647188ac3a36826140030aa\\', \\'department\\': \\'Editing\\', \\'gender\\': 0, \\'id\\': 1535951, \\'job\\': \\'Dialogue Editor\\', \\'name\\': \\'Neal J. Anderson\\', \\'profile_path\\': None}, {\\'credit_id\\': \\'564718bfc3a3682608002d5c\\', \\'department\\': \\'Editing\\', \\'gender\\': 0, \\'id\\': 1391385, \\'job\\': \\'Dialogue Editor\\', \\'name\\': \\'Duncan Burns\\', \\'profile_path\\': None}, {\\'credit_id\\': \\'564718da9251413e7f002a7d\\', \\'department\\': \\'Editing\\', \\'gender\\': 0, \\'id\\': 1406826, \\'job\\': \\'Dialogue Editor\\', \\'name\\': \\'Hector C. Gika\\', \\'profile_path\\': None}, {\\'credit_id\\': \\'564719199251413ad5002d09\\', \\'department\\': \\'Sound\\', \\'gender\\': 0, \\'id\\': 1392084, \\'job\\': \\'Supervising Sound Editor\\', \\'name\\': \\'Larry Kemp\\', \\'profile_path\\': None}, {\\'credit_id\\': \\'56471941c3a3682620002d64\\', \\'department\\': \\'Editing\\', \\'gender\\': 0, \\'id\\': 1392901, \\'job\\': \\'Dialogue Editor\\', \\'name\\': \\'Lauren Stephens\\', \\'profile_path\\': None}, {\\'credit_id\\': \\'5647197fc3a3682608002d90\\', \\'department\\': \\'Camera\\', \\'gender\\': 2, \\'id\\': 1409831, \\'job\\': \\'Camera Operator\\', \\'name\\': \\'Gary Jay\\', \\'profile_path\\': None}, {\\'credit_id\\': \\'564719a9c3a3682608002d95\\', \\'department\\': \\'Camera\\', \\'gender\\': 2, \\'id\\': 21118, \\'job\\': \\'Steadicam Operator\\', \\'name\\': \\'James Muro\\', \\'profile_path\\': None}, {\\'credit_id\\': \\'564719bfc3a3682620002d79\\', \\'department\\': \\'Camera\\', \\'gender\\': 0, \\'id\\': 1412205, \\'job\\': \\'Still Photographer\\', \\'name\\': \\'Frank Connor\\', \\'profile_path\\': None}, {\\'credit_id\\': \\'564719dec3a368261a002d54\\', \\'department\\': \\'Camera\\', \\'gender\\': 0, \\'id\\': 1403479, \\'job\\': \\'First Assistant Camera\\', \\'name\\': \\'Duane Manwiller\\', \\'profile_path\\': None}, {\\'credit_id\\': \\'564719f4c3a3682620002d82\\', \\'department\\': \\'Camera\\', \\'gender\\': 0, \\'id\\': 1347763, \\'job\\': \\'First Assistant Camera\\', \\'name\\': \\'Chris Moseley\\', \\'profile_path\\': None}, {\\'credit_id\\': \\'56471a16c3a3682611002c82\\', \\'department\\': \\'Lighting\\', \\'gender\\': 0, \\'id\\': 1415635, \\'job\\': \\'Rigging Gaffer\\', \\'name\\': \\'Frank Dorowsky\\', \\'profile_path\\': None}, {\\'credit_id\\': \\'5661581a925141790f0068fd\\', \\'department\\': \\'Sound\\', \\'gender\\': 2, \\'id\\': 1406905, \\'job\\': \\'Music Editor\\', \\'name\\': \\'Michael Connell\\', \\'profile_path\\': None}, {\\'credit_id\\': \\'56615839c3a36875f4006418\\', \\'department\\': \\'Sound\\', \\'gender\\': 2, \\'id\\': 75002, \\'job\\': \\'Music Supervisor\\', \\'name\\': \\'Budd Carr\\', \\'profile_path\\': None}, {\\'credit_id\\': \\'566158b5c3a36875e2006961\\', \\'department\\': \\'Editing\\', \\'gender\\': 0, \\'id\\': 60592, \\'job\\': \\'First Assistant Editor\\', \\'name\\': \\'Matthew Booth\\', \\'profile_path\\': None}, {\\'credit_id\\': \\'566158dfc3a36875e2006968\\', \\'department\\': \\'Editing\\', \\'gender\\': 0, \\'id\\': 1433743, \\'job\\': \\'First Assistant Editor\\', \\'name\\': \\'Vicki Hiatt\\', \\'profile_path\\': None}, {\\'credit_id\\': \\'56615906c3a36875ed006116\\', \\'department\\': \\'Editing\\', \\'gender\\': 0, \\'id\\': 1405208, \\'job\\': \\'First Assistant Editor\\', \\'name\\': \\'Thomas R. Bryant\\', \\'profile_path\\': None}, {\\'credit_id\\': \\'566159209251417918006451\\', \\'department\\': \\'Editing\\', \\'gender\\': 0, \\'id\\': 1432026, \\'job\\': \\'First Assistant Editor\\', \\'name\\': \\'Ray Boniker\\', \\'profile_path\\': None}, {\\'credit_id\\': \\'5661595f925141790c00648d\\', \\'department\\': \\'Sound\\', \\'gender\\': 0, \\'id\\': 1401687, \\'job\\': \\'Sound Re-Recording Mixer\\', \\'name\\': \\'Anna Behlmer\\', \\'profile_path\\': None}, {\\'credit_id\\': \\'566159a4c3a36875e0007279\\', \\'department\\': \\'Sound\\', \\'gender\\': 0, \\'id\\': 16177, \\'job\\': \\'Sound Re-Recording Mixer\\', \\'name\\': \\'Ron Bartlett\\', \\'profile_path\\': None}, {\\'credit_id\\': \\'566159c9c3a36875e2006994\\', \\'department\\': \\'Sound\\', \\'gender\\': 0, \\'id\\': 1368864, \\'job\\': \\'Sound Re-Recording Mixer\\', \\'name\\': \\'Chris Jenkins\\', \\'profile_path\\': None}, {\\'credit_id\\': \\'566159f1c3a36875ed00613e\\', \\'department\\': \\'Sound\\', \\'gender\\': 2, \\'id\\': 1338976, \\'job\\': \\'Sound Re-Recording Mixer\\', \\'name\\': \\'Andy Nelson\\', \\'profile_path\\': None}, {\\'credit_id\\': \\'56615a69925141791800649a\\', \\'department\\': \\'Sound\\', \\'gender\\': 0, \\'id\\': 1544638, \\'job\\': \\'Sound Re-Recording Mixer\\', \\'name\\': \\'Mark Smith\\', \\'profile_path\\': None}, {\\'credit_id\\': \\'56be7b5cc3a36817f400542a\\', \\'department\\': \\'Crew\\', \\'gender\\': 0, \\'id\\': 1576553, \\'job\\': \\'Stunts\\', \\'name\\': \"Daniel O\\'Haco\", \\'profile_path\\': None}, {\\'credit_id\\': \\'56be7f199251417347005171\\', \\'department\\': \\'Crew\\', \\'gender\\': 0, \\'id\\': 1457709, \\'job\\': \\'Technical Supervisor\\', \\'name\\': \\'Mick Gould\\', \\'profile_path\\': \\'/6BcVGV4fUITs2jaThbOq4GHlAFU.jpg\\'}, {\\'credit_id\\': \\'56be8150925141734d00530c\\', \\'department\\': \\'Crew\\', \\'gender\\': 0, \\'id\\': 1576562, \\'job\\': \\'Stunts\\', \\'name\\': \\'Tim Werner\\', \\'profile_path\\': None}, {\\'credit_id\\': \\'56bf6596c3a368180a009a90\\', \\'department\\': \\'Production\\', \\'gender\\': 2, \\'id\\': 639, \\'job\\': \\'Executive Producer\\', \\'name\\': \\'Pieter Jan Brugge\\', \\'profile_path\\': \\'/wSaIhLLvLSxxgOPugUx7M8ZBpD8.jpg\\'}, {\\'credit_id\\': \\'56bf65ba92514170aa002b1c\\', \\'department\\': \\'Production\\', \\'gender\\': 0, \\'id\\': 944682, \\'job\\': \\'Associate Producer\\', \\'name\\': \\'Gusmano Cesaretti\\', \\'profile_path\\': None}, {\\'credit_id\\': \\'56bf65e09251410bb0000d9f\\', \\'department\\': \\'Production\\', \\'gender\\': 2, \\'id\\': 376, \\'job\\': \\'Executive Producer\\', \\'name\\': \\'Arnon Milchan\\', \\'profile_path\\': \\'/5crR5twLRcIdvRR06dB1O0EQ8x0.jpg\\'}, {\\'credit_id\\': \\'56bf6743c3a3681806008963\\', \\'department\\': \\'Production\\', \\'gender\\': 0, \\'id\\': 1494667, \\'job\\': \\'Unit Production Manager\\', \\'name\\': \\'Christopher Cronyn\\', \\'profile_path\\': None}, {\\'credit_id\\': \\'56bf67ab92514170aa002b87\\', \\'department\\': \\'Directing\\', \\'gender\\': 0, \\'id\\': 212137, \\'job\\': \\'Assistant Director\\', \\'name\\': \\'Michael Waxman\\', \\'profile_path\\': None}, {\\'credit_id\\': \\'56bf6812c3a36817fd0089a0\\', \\'department\\': \\'Production\\', \\'gender\\': 0, \\'id\\': 1535952, \\'job\\': \\'Casting Associate\\', \\'name\\': \\'Alison E. McBryde\\', \\'profile_path\\': None}, {\\'credit_id\\': \\'56ddc252925141187c00009b\\', \\'department\\': \\'Costume & Make-Up\\', \\'gender\\': 0, \\'id\\': 1392142, \\'job\\': \\'Set Costumer\\', \\'name\\': \\'Marsha Bozeman\\', \\'profile_path\\': None}, {\\'credit_id\\': \\'56e066a2c3a3687492004ab5\\', \\'department\\': \\'Crew\\', \\'gender\\': 0, \\'id\\': 548451, \\'job\\': \\'Digital Effects Supervisor\\', \\'name\\': \\'Jeff Wells\\', \\'profile_path\\': None}, {\\'credit_id\\': \\'56e76b15c3a368408c000bf5\\', \\'department\\': \\'Crew\\', \\'gender\\': 0, \\'id\\': 142157, \\'job\\': \\'Stunts\\', \\'name\\': \\'Doug Coleman\\', \\'profile_path\\': None}, {\\'credit_id\\': \\'574f16349251415c9b0000b4\\', \\'department\\': \\'Crew\\', \\'gender\\': 0, \\'id\\': 1629423, \\'job\\': \\'Sound Recordist\\', \\'name\\': \\'Philip Rogers\\', \\'profile_path\\': None}, {\\'credit_id\\': \\'587d05e1925141410100ffb1\\', \\'department\\': \\'Sound\\', \\'gender\\': 0, \\'id\\': 15178, \\'job\\': \\'Additional Soundtrack\\', \\'name\\': \\'Jimmy Webb\\', \\'profile_path\\': \\'/hWNr6XzL5TiAkr93eVFSbILhVYr.jpg\\'}]'"
      ]
     },
     "execution_count": 458,
     "metadata": {},
     "output_type": "execute_result"
    }
   ],
   "source": [
    "movies.iloc[0].crew"
   ]
  },
  {
   "cell_type": "code",
   "execution_count": 459,
   "id": "f112e5b5-611b-46f9-b727-1a1a8d5f8da8",
   "metadata": {},
   "outputs": [],
   "source": [
    "movies[\"crew\"] = movies[\"crew\"].apply(lambda x: ast.literal_eval(x.replace(\"\\\\'\", \"'\")) if isinstance(x, str) else x)\n"
   ]
  },
  {
   "cell_type": "code",
   "execution_count": 462,
   "id": "3c863106-17f2-4a64-a2c0-42b74faa7bad",
   "metadata": {},
   "outputs": [],
   "source": [
    "def director(obj):\n",
    "    if isinstance(obj, str):\n",
    "        try:\n",
    "            obj = ast.literal_eval(obj)\n",
    "        except ValueError:\n",
    "            return None\n",
    "    if isinstance(obj, list):\n",
    "        L = []\n",
    "        for i in obj:\n",
    "            if(i['job'] == 'Director' ):\n",
    "                L.append(i[\"name\"])\n",
    "                break\n",
    "        return L\n",
    "    return obj"
   ]
  },
  {
   "cell_type": "code",
   "execution_count": 463,
   "id": "b9a7e63e-b5ee-415c-a883-a6b470d1f0eb",
   "metadata": {},
   "outputs": [],
   "source": [
    "movies[\"crew\"]=movies[\"crew\"].apply(director)"
   ]
  },
  {
   "cell_type": "code",
   "execution_count": 464,
   "id": "cfec43de-b923-4738-928d-47827ab11990",
   "metadata": {},
   "outputs": [
    {
     "data": {
      "text/plain": [
       "0          [Michael Mann]\n",
       "1        [Sydney Pollack]\n",
       "2       [Martin Campbell]\n",
       "3          [Renny Harlin]\n",
       "4       [Martin Scorsese]\n",
       "              ...        \n",
       "3364     [Terence Fisher]\n",
       "3365    [Vera Storozheva]\n",
       "3366      [Sergey Ivanov]\n",
       "3367        [Jia Zhangke]\n",
       "3368     [Georges Méliès]\n",
       "Name: crew, Length: 3337, dtype: object"
      ]
     },
     "execution_count": 464,
     "metadata": {},
     "output_type": "execute_result"
    }
   ],
   "source": [
    "movies[\"crew\"]"
   ]
  },
  {
   "cell_type": "code",
   "execution_count": 465,
   "id": "1cc6a91a-869e-478e-8366-d1328bbf4e36",
   "metadata": {},
   "outputs": [],
   "source": [
    "movies[\"overview\"]=movies[\"overview\"].apply(lambda x:x.split())"
   ]
  },
  {
   "cell_type": "code",
   "execution_count": 466,
   "id": "9c3cf08a-5f2c-4c8c-aa8a-4b60bde94e3e",
   "metadata": {},
   "outputs": [
    {
     "data": {
      "text/plain": [
       "0       [Obsessive, master, thief,, Neil, McCauley, le...\n",
       "1       [An, ugly, duckling, having, undergone, a, rem...\n",
       "2       [James, Bond, must, unmask, the, mysterious, h...\n",
       "3       [Morgan, Adams, and, her, slave,, William, Sha...\n",
       "4       [The, life, of, the, gambling, paradise, –, La...\n",
       "                              ...                        \n",
       "3364    [A, deformed, tormented, girl, drowns, herself...\n",
       "3365    [Plucked, from, an, orphanage, as, a, literal,...\n",
       "3366    [Masha, Krapivina, -, is, yet, beautiful,, and...\n",
       "3367    [Little, pocket, thief, Wu, never, got, away, ...\n",
       "3368    [A, band-leader, has, arranged, seven, chairs,...\n",
       "Name: overview, Length: 3337, dtype: object"
      ]
     },
     "execution_count": 466,
     "metadata": {},
     "output_type": "execute_result"
    }
   ],
   "source": [
    "movies[\"overview\"]"
   ]
  },
  {
   "cell_type": "code",
   "execution_count": 468,
   "id": "2df6c5f2-f626-4668-b996-ad2690762e33",
   "metadata": {},
   "outputs": [
    {
     "data": {
      "text/html": [
       "<div>\n",
       "<style scoped>\n",
       "    .dataframe tbody tr th:only-of-type {\n",
       "        vertical-align: middle;\n",
       "    }\n",
       "\n",
       "    .dataframe tbody tr th {\n",
       "        vertical-align: top;\n",
       "    }\n",
       "\n",
       "    .dataframe thead th {\n",
       "        text-align: right;\n",
       "    }\n",
       "</style>\n",
       "<table border=\"1\" class=\"dataframe\">\n",
       "  <thead>\n",
       "    <tr style=\"text-align: right;\">\n",
       "      <th></th>\n",
       "      <th>imdb_id</th>\n",
       "      <th>id</th>\n",
       "      <th>title</th>\n",
       "      <th>overview</th>\n",
       "      <th>genres</th>\n",
       "      <th>cast</th>\n",
       "      <th>crew</th>\n",
       "    </tr>\n",
       "  </thead>\n",
       "  <tbody>\n",
       "    <tr>\n",
       "      <th>0</th>\n",
       "      <td>tt0113277</td>\n",
       "      <td>949</td>\n",
       "      <td>Heat</td>\n",
       "      <td>[Obsessive, master, thief,, Neil, McCauley, le...</td>\n",
       "      <td>[Action, Crime, Drama, Thriller]</td>\n",
       "      <td>[{'cast_id': 25, 'character': 'Lt. Vincent Han...</td>\n",
       "      <td>[Michael Mann]</td>\n",
       "    </tr>\n",
       "    <tr>\n",
       "      <th>1</th>\n",
       "      <td>tt0114319</td>\n",
       "      <td>11860</td>\n",
       "      <td>Sabrina</td>\n",
       "      <td>[An, ugly, duckling, having, undergone, a, rem...</td>\n",
       "      <td>[Comedy, Romance]</td>\n",
       "      <td>[{'cast_id': 1, 'character': 'Linus Larrabee',...</td>\n",
       "      <td>[Sydney Pollack]</td>\n",
       "    </tr>\n",
       "    <tr>\n",
       "      <th>2</th>\n",
       "      <td>tt0113189</td>\n",
       "      <td>710</td>\n",
       "      <td>GoldenEye</td>\n",
       "      <td>[James, Bond, must, unmask, the, mysterious, h...</td>\n",
       "      <td>[Adventure, Action, Thriller]</td>\n",
       "      <td>[{'cast_id': 1, 'character': 'James Bond', 'cr...</td>\n",
       "      <td>[Martin Campbell]</td>\n",
       "    </tr>\n",
       "    <tr>\n",
       "      <th>3</th>\n",
       "      <td>tt0112760</td>\n",
       "      <td>1408</td>\n",
       "      <td>Cutthroat Island</td>\n",
       "      <td>[Morgan, Adams, and, her, slave,, William, Sha...</td>\n",
       "      <td>[Action, Adventure]</td>\n",
       "      <td>[{'cast_id': 1, 'character': 'Morgan Adams', '...</td>\n",
       "      <td>[Renny Harlin]</td>\n",
       "    </tr>\n",
       "    <tr>\n",
       "      <th>4</th>\n",
       "      <td>tt0112641</td>\n",
       "      <td>524</td>\n",
       "      <td>Casino</td>\n",
       "      <td>[The, life, of, the, gambling, paradise, –, La...</td>\n",
       "      <td>[Drama, Crime]</td>\n",
       "      <td>[{'cast_id': 4, 'character': 'Sam 'Ace' Rothst...</td>\n",
       "      <td>[Martin Scorsese]</td>\n",
       "    </tr>\n",
       "    <tr>\n",
       "      <th>...</th>\n",
       "      <td>...</td>\n",
       "      <td>...</td>\n",
       "      <td>...</td>\n",
       "      <td>...</td>\n",
       "      <td>...</td>\n",
       "      <td>...</td>\n",
       "      <td>...</td>\n",
       "    </tr>\n",
       "    <tr>\n",
       "      <th>3364</th>\n",
       "      <td>tt0061683</td>\n",
       "      <td>3104</td>\n",
       "      <td>Frankenstein Created Woman</td>\n",
       "      <td>[A, deformed, tormented, girl, drowns, herself...</td>\n",
       "      <td>[Horror, Science Fiction]</td>\n",
       "      <td>[{'cast_id': 9, 'character': 'Baron Frankenste...</td>\n",
       "      <td>[Terence Fisher]</td>\n",
       "    </tr>\n",
       "    <tr>\n",
       "      <th>3365</th>\n",
       "      <td>tt1047845</td>\n",
       "      <td>64197</td>\n",
       "      <td>Travelling with Pets</td>\n",
       "      <td>[Plucked, from, an, orphanage, as, a, literal,...</td>\n",
       "      <td>[Romance, Drama]</td>\n",
       "      <td>[{'cast_id': 2, 'character': 'Sergei', 'credit...</td>\n",
       "      <td>[Vera Storozheva]</td>\n",
       "    </tr>\n",
       "    <tr>\n",
       "      <th>3366</th>\n",
       "      <td>tt2147597</td>\n",
       "      <td>98604</td>\n",
       "      <td>Cinderella</td>\n",
       "      <td>[Masha, Krapivina, -, is, yet, beautiful,, and...</td>\n",
       "      <td>[Comedy, Romance]</td>\n",
       "      <td>[{'cast_id': 1001, 'character': 'Masha', 'cred...</td>\n",
       "      <td>[Sergey Ivanov]</td>\n",
       "    </tr>\n",
       "    <tr>\n",
       "      <th>3367</th>\n",
       "      <td>tt0144020</td>\n",
       "      <td>52103</td>\n",
       "      <td>Pickpocket</td>\n",
       "      <td>[Little, pocket, thief, Wu, never, got, away, ...</td>\n",
       "      <td>[Drama, Foreign]</td>\n",
       "      <td>[{'cast_id': 3, 'character': 'Xiao Wu', 'credi...</td>\n",
       "      <td>[Jia Zhangke]</td>\n",
       "    </tr>\n",
       "    <tr>\n",
       "      <th>3368</th>\n",
       "      <td>tt0135453</td>\n",
       "      <td>49280</td>\n",
       "      <td>The One-Man Band</td>\n",
       "      <td>[A, band-leader, has, arranged, seven, chairs,...</td>\n",
       "      <td>[Fantasy, Action, Thriller]</td>\n",
       "      <td>[{'cast_id': 3, 'character': 'All the members ...</td>\n",
       "      <td>[Georges Méliès]</td>\n",
       "    </tr>\n",
       "  </tbody>\n",
       "</table>\n",
       "<p>3337 rows × 7 columns</p>\n",
       "</div>"
      ],
      "text/plain": [
       "        imdb_id     id                       title  \\\n",
       "0     tt0113277    949                        Heat   \n",
       "1     tt0114319  11860                     Sabrina   \n",
       "2     tt0113189    710                   GoldenEye   \n",
       "3     tt0112760   1408            Cutthroat Island   \n",
       "4     tt0112641    524                      Casino   \n",
       "...         ...    ...                         ...   \n",
       "3364  tt0061683   3104  Frankenstein Created Woman   \n",
       "3365  tt1047845  64197        Travelling with Pets   \n",
       "3366  tt2147597  98604                  Cinderella   \n",
       "3367  tt0144020  52103                  Pickpocket   \n",
       "3368  tt0135453  49280            The One-Man Band   \n",
       "\n",
       "                                               overview  \\\n",
       "0     [Obsessive, master, thief,, Neil, McCauley, le...   \n",
       "1     [An, ugly, duckling, having, undergone, a, rem...   \n",
       "2     [James, Bond, must, unmask, the, mysterious, h...   \n",
       "3     [Morgan, Adams, and, her, slave,, William, Sha...   \n",
       "4     [The, life, of, the, gambling, paradise, –, La...   \n",
       "...                                                 ...   \n",
       "3364  [A, deformed, tormented, girl, drowns, herself...   \n",
       "3365  [Plucked, from, an, orphanage, as, a, literal,...   \n",
       "3366  [Masha, Krapivina, -, is, yet, beautiful,, and...   \n",
       "3367  [Little, pocket, thief, Wu, never, got, away, ...   \n",
       "3368  [A, band-leader, has, arranged, seven, chairs,...   \n",
       "\n",
       "                                genres  \\\n",
       "0     [Action, Crime, Drama, Thriller]   \n",
       "1                    [Comedy, Romance]   \n",
       "2        [Adventure, Action, Thriller]   \n",
       "3                  [Action, Adventure]   \n",
       "4                       [Drama, Crime]   \n",
       "...                                ...   \n",
       "3364         [Horror, Science Fiction]   \n",
       "3365                  [Romance, Drama]   \n",
       "3366                 [Comedy, Romance]   \n",
       "3367                  [Drama, Foreign]   \n",
       "3368       [Fantasy, Action, Thriller]   \n",
       "\n",
       "                                                   cast               crew  \n",
       "0     [{'cast_id': 25, 'character': 'Lt. Vincent Han...     [Michael Mann]  \n",
       "1     [{'cast_id': 1, 'character': 'Linus Larrabee',...   [Sydney Pollack]  \n",
       "2     [{'cast_id': 1, 'character': 'James Bond', 'cr...  [Martin Campbell]  \n",
       "3     [{'cast_id': 1, 'character': 'Morgan Adams', '...     [Renny Harlin]  \n",
       "4     [{'cast_id': 4, 'character': 'Sam 'Ace' Rothst...  [Martin Scorsese]  \n",
       "...                                                 ...                ...  \n",
       "3364  [{'cast_id': 9, 'character': 'Baron Frankenste...   [Terence Fisher]  \n",
       "3365  [{'cast_id': 2, 'character': 'Sergei', 'credit...  [Vera Storozheva]  \n",
       "3366  [{'cast_id': 1001, 'character': 'Masha', 'cred...    [Sergey Ivanov]  \n",
       "3367  [{'cast_id': 3, 'character': 'Xiao Wu', 'credi...      [Jia Zhangke]  \n",
       "3368  [{'cast_id': 3, 'character': 'All the members ...   [Georges Méliès]  \n",
       "\n",
       "[3337 rows x 7 columns]"
      ]
     },
     "execution_count": 468,
     "metadata": {},
     "output_type": "execute_result"
    }
   ],
   "source": [
    "movies"
   ]
  },
  {
   "cell_type": "code",
   "execution_count": 469,
   "id": "c8837d7a-54ec-48b2-9282-fbebeca075ff",
   "metadata": {},
   "outputs": [],
   "source": [
    "movies[\"genres\"]=movies[\"genres\"].apply(lambda x:[i.replace(\" \",\"\") for i in x])\n",
    "movies[\"cast\"] = movies[\"cast\"].apply(\n",
    "    lambda x: [d[\"name\"].replace(\" \", \"\") for d in x if \"name\" in d]\n",
    ")\n",
    "movies[\"crew\"]=movies[\"crew\"].apply(lambda x:[i.replace(\" \",\"\") for i in x])"
   ]
  },
  {
   "cell_type": "code",
   "execution_count": 471,
   "id": "a696e2a3-3a2b-4888-8da5-6a77022925a9",
   "metadata": {},
   "outputs": [
    {
     "data": {
      "text/plain": [
       "0       [AlPacino, RobertDeNiro, ValKilmer, JonVoight,...\n",
       "1       [HarrisonFord, JuliaOrmond, GregKinnear, Angie...\n",
       "2       [PierceBrosnan, SeanBean, IzabellaScorupco, Fa...\n",
       "3       [GeenaDavis, MatthewModine, FrankLangella, Mau...\n",
       "4       [RobertDeNiro, SharonStone, JoePesci, JamesWoo...\n",
       "                              ...                        \n",
       "3364    [PeterCushing, SusanDenberg, ThorleyWalters, R...\n",
       "3365    [DmitriyDyuzhev, KseniyaKutepova, AnnaMikhalko...\n",
       "3366    [KristinaAsmus, NikitaEfremov, ArtyomTkachenko...\n",
       "3367    [HongweiWang, HaoHongjian, BaitaoZuo, MaJinrei...\n",
       "3368                                      [GeorgesMéliès]\n",
       "Name: cast, Length: 3337, dtype: object"
      ]
     },
     "execution_count": 471,
     "metadata": {},
     "output_type": "execute_result"
    }
   ],
   "source": [
    "movies[\"cast\"]"
   ]
  },
  {
   "cell_type": "code",
   "execution_count": 472,
   "id": "4e690d5c-636a-47b9-9ff2-07ebde1b6e84",
   "metadata": {},
   "outputs": [],
   "source": [
    "movies[\"tags\"]= movies[\"overview\"]+movies[\"genres\"]+movies[\"cast\"]+movies[\"crew\"]"
   ]
  },
  {
   "cell_type": "code",
   "execution_count": 474,
   "id": "84399d8e-463a-4bd4-aae3-ab270480b1c7",
   "metadata": {},
   "outputs": [
    {
     "data": {
      "text/plain": [
       "0    [Obsessive, master, thief,, Neil, McCauley, le...\n",
       "1    [An, ugly, duckling, having, undergone, a, rem...\n",
       "2    [James, Bond, must, unmask, the, mysterious, h...\n",
       "3    [Morgan, Adams, and, her, slave,, William, Sha...\n",
       "Name: tags, dtype: object"
      ]
     },
     "execution_count": 474,
     "metadata": {},
     "output_type": "execute_result"
    }
   ],
   "source": [
    "movies[\"tags\"].head(4)"
   ]
  },
  {
   "cell_type": "code",
   "execution_count": 476,
   "id": "24d51875-1ce0-4a6c-8eac-1f7ae58e50e0",
   "metadata": {},
   "outputs": [],
   "source": [
    "#imdb_id\tid\ttitle\toverview\tgenres\tcast\tcrew\n",
    "new_df = movies[[\"imdb_id\",\"id\",\"title\",\"tags\"]]"
   ]
  },
  {
   "cell_type": "code",
   "execution_count": 477,
   "id": "573feb20-1d17-4177-8612-07074963edaf",
   "metadata": {},
   "outputs": [
    {
     "data": {
      "text/html": [
       "<div>\n",
       "<style scoped>\n",
       "    .dataframe tbody tr th:only-of-type {\n",
       "        vertical-align: middle;\n",
       "    }\n",
       "\n",
       "    .dataframe tbody tr th {\n",
       "        vertical-align: top;\n",
       "    }\n",
       "\n",
       "    .dataframe thead th {\n",
       "        text-align: right;\n",
       "    }\n",
       "</style>\n",
       "<table border=\"1\" class=\"dataframe\">\n",
       "  <thead>\n",
       "    <tr style=\"text-align: right;\">\n",
       "      <th></th>\n",
       "      <th>imdb_id</th>\n",
       "      <th>id</th>\n",
       "      <th>title</th>\n",
       "      <th>tags</th>\n",
       "    </tr>\n",
       "  </thead>\n",
       "  <tbody>\n",
       "    <tr>\n",
       "      <th>0</th>\n",
       "      <td>tt0113277</td>\n",
       "      <td>949</td>\n",
       "      <td>Heat</td>\n",
       "      <td>[Obsessive, master, thief,, Neil, McCauley, le...</td>\n",
       "    </tr>\n",
       "    <tr>\n",
       "      <th>1</th>\n",
       "      <td>tt0114319</td>\n",
       "      <td>11860</td>\n",
       "      <td>Sabrina</td>\n",
       "      <td>[An, ugly, duckling, having, undergone, a, rem...</td>\n",
       "    </tr>\n",
       "    <tr>\n",
       "      <th>2</th>\n",
       "      <td>tt0113189</td>\n",
       "      <td>710</td>\n",
       "      <td>GoldenEye</td>\n",
       "      <td>[James, Bond, must, unmask, the, mysterious, h...</td>\n",
       "    </tr>\n",
       "    <tr>\n",
       "      <th>3</th>\n",
       "      <td>tt0112760</td>\n",
       "      <td>1408</td>\n",
       "      <td>Cutthroat Island</td>\n",
       "      <td>[Morgan, Adams, and, her, slave,, William, Sha...</td>\n",
       "    </tr>\n",
       "    <tr>\n",
       "      <th>4</th>\n",
       "      <td>tt0112641</td>\n",
       "      <td>524</td>\n",
       "      <td>Casino</td>\n",
       "      <td>[The, life, of, the, gambling, paradise, –, La...</td>\n",
       "    </tr>\n",
       "  </tbody>\n",
       "</table>\n",
       "</div>"
      ],
      "text/plain": [
       "     imdb_id     id             title  \\\n",
       "0  tt0113277    949              Heat   \n",
       "1  tt0114319  11860           Sabrina   \n",
       "2  tt0113189    710         GoldenEye   \n",
       "3  tt0112760   1408  Cutthroat Island   \n",
       "4  tt0112641    524            Casino   \n",
       "\n",
       "                                                tags  \n",
       "0  [Obsessive, master, thief,, Neil, McCauley, le...  \n",
       "1  [An, ugly, duckling, having, undergone, a, rem...  \n",
       "2  [James, Bond, must, unmask, the, mysterious, h...  \n",
       "3  [Morgan, Adams, and, her, slave,, William, Sha...  \n",
       "4  [The, life, of, the, gambling, paradise, –, La...  "
      ]
     },
     "execution_count": 477,
     "metadata": {},
     "output_type": "execute_result"
    }
   ],
   "source": [
    "new_df.head(5)"
   ]
  },
  {
   "cell_type": "code",
   "execution_count": 478,
   "id": "986ead29-726f-49e0-8830-4d7cce140f9c",
   "metadata": {},
   "outputs": [
    {
     "name": "stderr",
     "output_type": "stream",
     "text": [
      "C:\\Users\\lenovo\\AppData\\Local\\Temp\\ipykernel_17288\\3089450492.py:1: SettingWithCopyWarning: \n",
      "A value is trying to be set on a copy of a slice from a DataFrame.\n",
      "Try using .loc[row_indexer,col_indexer] = value instead\n",
      "\n",
      "See the caveats in the documentation: https://pandas.pydata.org/pandas-docs/stable/user_guide/indexing.html#returning-a-view-versus-a-copy\n",
      "  new_df['tags'] = new_df['tags'].apply(lambda x:\" \".join(x))\n"
     ]
    }
   ],
   "source": [
    "new_df['tags'] = new_df['tags'].apply(lambda x:\" \".join(x))"
   ]
  },
  {
   "cell_type": "code",
   "execution_count": 479,
   "id": "503f36fd-2b7b-4dec-a74f-2da842b143f9",
   "metadata": {},
   "outputs": [
    {
     "data": {
      "text/plain": [
       "0    Obsessive master thief, Neil McCauley leads a ...\n",
       "1    An ugly duckling having undergone a remarkable...\n",
       "2    James Bond must unmask the mysterious head of ...\n",
       "3    Morgan Adams and her slave, William Shaw, are ...\n",
       "Name: tags, dtype: object"
      ]
     },
     "execution_count": 479,
     "metadata": {},
     "output_type": "execute_result"
    }
   ],
   "source": [
    "new_df[\"tags\"].head(4)"
   ]
  },
  {
   "cell_type": "code",
   "execution_count": 481,
   "id": "b6a074b0-1a02-48bd-a9bd-a3749b9f2ea7",
   "metadata": {},
   "outputs": [
    {
     "data": {
      "text/plain": [
       "\"Obsessive master thief, Neil McCauley leads a top-notch crew on various insane heists throughout Los Angeles while a mentally unstable detective, Vincent Hanna pursues him without rest. Each man recognizes and respects the ability and the dedication of the other even though they are aware their cat-and-mouse game may end in violence. Action Crime Drama Thriller AlPacino RobertDeNiro ValKilmer JonVoight TomSizemore DianeVenora AmyBrenneman AshleyJudd MykeltiWilliamson NataliePortman TedLevine TomNoonan ToneLoc HankAzaria WesStudi DennisHaysbert DannyTrejo HenryRollins WilliamFichtner KevinGage SusanTraylor JerryTrimble RickyHarris JeremyPiven XanderBerkeley BegonyaPlaza RickAvery HazelleGoodman RayBuktenica MaxDaniels VinceDeadrickJr. StevenFord FarrahForke PatriciaHealy PaulHerman CindyKatz BrianLibby DanMartin MarioRoberts ThomasRosales,Jr. YvonneZima MickGould BudCort VivianeVives KimStaunton MartinFerrero BradBaldridge AndrewCamuccio KennyEndoso KimberlyFlynn NikiHarris BillMcIntosh RickMarzan TerryMiller DanielO'Haco KaiSoremekun PeterBlackwell TrevorCoppola MaryKircher DarinMangan RobertMiranda MannyPerry IvaFranksSinger TimWerner PhilipEttington MichaelMann\""
      ]
     },
     "execution_count": 481,
     "metadata": {},
     "output_type": "execute_result"
    }
   ],
   "source": [
    "new_df[\"tags\"][0]"
   ]
  },
  {
   "cell_type": "code",
   "execution_count": 483,
   "id": "c5d98026-1f0c-4793-8317-396041a89c3f",
   "metadata": {},
   "outputs": [
    {
     "name": "stderr",
     "output_type": "stream",
     "text": [
      "C:\\Users\\lenovo\\AppData\\Local\\Temp\\ipykernel_17288\\1683568738.py:1: SettingWithCopyWarning: \n",
      "A value is trying to be set on a copy of a slice from a DataFrame.\n",
      "Try using .loc[row_indexer,col_indexer] = value instead\n",
      "\n",
      "See the caveats in the documentation: https://pandas.pydata.org/pandas-docs/stable/user_guide/indexing.html#returning-a-view-versus-a-copy\n",
      "  new_df['tags'] = new_df['tags'].apply(lambda x: x.lower() if isinstance(x, str) else x)\n"
     ]
    }
   ],
   "source": [
    "new_df['tags'] = new_df['tags'].apply(lambda x: x.lower() if isinstance(x, str) else x)"
   ]
  },
  {
   "cell_type": "code",
   "execution_count": 485,
   "id": "3a2ef0f9-7d39-488b-9ded-df90e2aa1f21",
   "metadata": {},
   "outputs": [
    {
     "data": {
      "text/html": [
       "<div>\n",
       "<style scoped>\n",
       "    .dataframe tbody tr th:only-of-type {\n",
       "        vertical-align: middle;\n",
       "    }\n",
       "\n",
       "    .dataframe tbody tr th {\n",
       "        vertical-align: top;\n",
       "    }\n",
       "\n",
       "    .dataframe thead th {\n",
       "        text-align: right;\n",
       "    }\n",
       "</style>\n",
       "<table border=\"1\" class=\"dataframe\">\n",
       "  <thead>\n",
       "    <tr style=\"text-align: right;\">\n",
       "      <th></th>\n",
       "      <th>imdb_id</th>\n",
       "      <th>id</th>\n",
       "      <th>title</th>\n",
       "      <th>tags</th>\n",
       "    </tr>\n",
       "  </thead>\n",
       "  <tbody>\n",
       "    <tr>\n",
       "      <th>0</th>\n",
       "      <td>tt0113277</td>\n",
       "      <td>949</td>\n",
       "      <td>Heat</td>\n",
       "      <td>obsessive master thief, neil mccauley leads a ...</td>\n",
       "    </tr>\n",
       "    <tr>\n",
       "      <th>1</th>\n",
       "      <td>tt0114319</td>\n",
       "      <td>11860</td>\n",
       "      <td>Sabrina</td>\n",
       "      <td>an ugly duckling having undergone a remarkable...</td>\n",
       "    </tr>\n",
       "  </tbody>\n",
       "</table>\n",
       "</div>"
      ],
      "text/plain": [
       "     imdb_id     id    title  \\\n",
       "0  tt0113277    949     Heat   \n",
       "1  tt0114319  11860  Sabrina   \n",
       "\n",
       "                                                tags  \n",
       "0  obsessive master thief, neil mccauley leads a ...  \n",
       "1  an ugly duckling having undergone a remarkable...  "
      ]
     },
     "execution_count": 485,
     "metadata": {},
     "output_type": "execute_result"
    }
   ],
   "source": [
    "new_df.head(2)"
   ]
  },
  {
   "cell_type": "code",
   "execution_count": 486,
   "id": "d767e715-7305-42d0-9585-7769260d3d0f",
   "metadata": {},
   "outputs": [],
   "source": [
    "from nltk.stem.porter import PorterStemmer\n",
    "ps = PorterStemmer()"
   ]
  },
  {
   "cell_type": "code",
   "execution_count": 488,
   "id": "04f76d6c-5f98-47a0-9838-d21a48676fcd",
   "metadata": {},
   "outputs": [],
   "source": [
    "def stem(text):\n",
    "    y = []\n",
    "    for i in text.split():\n",
    "        y.append(ps.stem(i))\n",
    "    return \" \".join(y)"
   ]
  },
  {
   "cell_type": "code",
   "execution_count": 489,
   "id": "cdbced3a-d797-4841-bd0e-86d26265dd5c",
   "metadata": {},
   "outputs": [
    {
     "name": "stderr",
     "output_type": "stream",
     "text": [
      "C:\\Users\\lenovo\\AppData\\Local\\Temp\\ipykernel_17288\\1027202188.py:1: SettingWithCopyWarning: \n",
      "A value is trying to be set on a copy of a slice from a DataFrame.\n",
      "Try using .loc[row_indexer,col_indexer] = value instead\n",
      "\n",
      "See the caveats in the documentation: https://pandas.pydata.org/pandas-docs/stable/user_guide/indexing.html#returning-a-view-versus-a-copy\n",
      "  new_df[\"tags\"]=new_df[\"tags\"].apply(stem)\n"
     ]
    }
   ],
   "source": [
    "new_df[\"tags\"]=new_df[\"tags\"].apply(stem)"
   ]
  },
  {
   "cell_type": "code",
   "execution_count": 491,
   "id": "96da04f9-18bb-48bc-aa3b-8bd4711ec1bd",
   "metadata": {},
   "outputs": [
    {
     "data": {
      "text/plain": [
       "0       obsess master thief, neil mccauley lead a top-...\n",
       "1       an ugli duckl have undergon a remark change, s...\n",
       "2       jame bond must unmask the mysteri head of the ...\n",
       "3       morgan adam and her slave, william shaw, are o...\n",
       "4       the life of the gambl paradis – la vega – and ...\n",
       "                              ...                        \n",
       "3364    a deform torment girl drown herself after her ...\n",
       "3365    pluck from an orphanag as a liter love slave, ...\n",
       "3366    masha krapivina - is yet beautiful, and not th...\n",
       "3367    littl pocket thief wu never got away from the ...\n",
       "3368    a band-lead ha arrang seven chair for the memb...\n",
       "Name: tags, Length: 3337, dtype: object"
      ]
     },
     "execution_count": 491,
     "metadata": {},
     "output_type": "execute_result"
    }
   ],
   "source": [
    "new_df[\"tags\"]"
   ]
  },
  {
   "cell_type": "code",
   "execution_count": 493,
   "id": "ce0c4c6f-44d1-48cb-ac4f-22b84c44d061",
   "metadata": {},
   "outputs": [],
   "source": [
    "from sklearn.feature_extraction.text import CountVectorizer"
   ]
  },
  {
   "cell_type": "code",
   "execution_count": 690,
   "id": "6d3b4a3d-6f3e-49d1-9977-45fd8e40ced6",
   "metadata": {},
   "outputs": [],
   "source": [
    "cv = CountVectorizer(max_features=6000,stop_words='english')"
   ]
  },
  {
   "cell_type": "code",
   "execution_count": 692,
   "id": "c347df55-4c4b-4321-8d71-ded2fe0878ae",
   "metadata": {},
   "outputs": [],
   "source": [
    "vectors = cv.fit_transform(new_df['tags']).toarray()"
   ]
  },
  {
   "cell_type": "code",
   "execution_count": 694,
   "id": "d6eb84d8-9a84-435e-b0be-493a32a7afda",
   "metadata": {},
   "outputs": [
    {
     "data": {
      "text/plain": [
       "array([[0, 0, 0, ..., 0, 0, 0],\n",
       "       [0, 0, 0, ..., 0, 0, 0],\n",
       "       [0, 0, 0, ..., 0, 0, 0],\n",
       "       ...,\n",
       "       [0, 0, 0, ..., 0, 0, 0],\n",
       "       [0, 0, 0, ..., 0, 0, 0],\n",
       "       [0, 0, 0, ..., 0, 0, 0]], dtype=int64)"
      ]
     },
     "execution_count": 694,
     "metadata": {},
     "output_type": "execute_result"
    }
   ],
   "source": [
    "vectors"
   ]
  },
  {
   "cell_type": "code",
   "execution_count": 696,
   "id": "05b51511-2554-4b45-b872-a7ec4c43aa43",
   "metadata": {},
   "outputs": [
    {
     "data": {
      "text/plain": [
       "array(['000', '10', '100', ..., 'zombi', 'zooeydeschanel', 'zyto'],\n",
       "      dtype=object)"
      ]
     },
     "execution_count": 696,
     "metadata": {},
     "output_type": "execute_result"
    }
   ],
   "source": [
    "cv.get_feature_names_out()"
   ]
  },
  {
   "cell_type": "code",
   "execution_count": 698,
   "id": "0efab207-fac2-4500-9558-9790ac8a9be0",
   "metadata": {},
   "outputs": [],
   "source": [
    "from sklearn.metrics.pairwise import cosine_similarity\n",
    "similarity=cosine_similarity(vectors)"
   ]
  },
  {
   "cell_type": "code",
   "execution_count": 699,
   "id": "81f2bd04-1142-4981-b362-c9bcc5fdd8b5",
   "metadata": {},
   "outputs": [
    {
     "data": {
      "text/plain": [
       "array([[1.        , 0.        , 0.05337605, ..., 0.        , 0.0381108 ,\n",
       "        0.04481107],\n",
       "       [0.        , 1.        , 0.        , ..., 0.07905694, 0.12376844,\n",
       "        0.03880753],\n",
       "       [0.05337605, 0.        , 1.        , ..., 0.        , 0.        ,\n",
       "        0.04305308],\n",
       "       ...,\n",
       "       [0.        , 0.07905694, 0.        , ..., 1.        , 0.03131121,\n",
       "        0.        ],\n",
       "       [0.0381108 , 0.12376844, 0.        , ..., 0.03131121, 1.        ,\n",
       "        0.07685035],\n",
       "       [0.04481107, 0.03880753, 0.04305308, ..., 0.        , 0.07685035,\n",
       "        1.        ]])"
      ]
     },
     "execution_count": 699,
     "metadata": {},
     "output_type": "execute_result"
    }
   ],
   "source": [
    "similarity"
   ]
  },
  {
   "cell_type": "code",
   "execution_count": 702,
   "id": "e9e97d27-ce6b-4682-9618-ed5e969bff6e",
   "metadata": {},
   "outputs": [],
   "source": [
    "def recommend(movie):\n",
    "    movie_index = new_df[new_df['title']==movie].index[0]\n",
    "    distances = similarity[movie_index]\n",
    "    movie_list = sorted(list(enumerate(distances)),reverse=True,key = lambda x:x[1])[1:6]\n",
    "    for i in movie_list:\n",
    "        print(new_df.iloc[i[0]].title)"
   ]
  },
  {
   "cell_type": "code",
   "execution_count": 704,
   "id": "44386f22-edf9-40f1-b5b9-bd42cba79843",
   "metadata": {},
   "outputs": [
    {
     "data": {
      "text/plain": [
       "0                             Heat\n",
       "1                          Sabrina\n",
       "2                        GoldenEye\n",
       "3                 Cutthroat Island\n",
       "4                           Casino\n",
       "                   ...            \n",
       "3364    Frankenstein Created Woman\n",
       "3365          Travelling with Pets\n",
       "3366                    Cinderella\n",
       "3367                    Pickpocket\n",
       "3368              The One-Man Band\n",
       "Name: title, Length: 3337, dtype: object"
      ]
     },
     "execution_count": 704,
     "metadata": {},
     "output_type": "execute_result"
    }
   ],
   "source": [
    "new_df['title']"
   ]
  },
  {
   "cell_type": "code",
   "execution_count": 706,
   "id": "2fdd663d-90d1-4b22-94ae-f405ef19a998",
   "metadata": {},
   "outputs": [
    {
     "name": "stdout",
     "output_type": "stream",
     "text": [
      "Dark Horse\n",
      "Once Were Warriors\n",
      "Barren Lives\n",
      "Copying Beethoven\n",
      "The Beautiful Country\n"
     ]
    }
   ],
   "source": [
    "recommend('The Dark Knight')"
   ]
  },
  {
   "cell_type": "code",
   "execution_count": null,
   "id": "9057a3de-1bf7-4d47-b152-273a67633a48",
   "metadata": {},
   "outputs": [],
   "source": []
  },
  {
   "cell_type": "code",
   "execution_count": null,
   "id": "91e89ac9-096a-4865-9687-03b1972652df",
   "metadata": {},
   "outputs": [],
   "source": []
  },
  {
   "cell_type": "code",
   "execution_count": null,
   "id": "84219027-9549-4480-874e-a8beb11cba64",
   "metadata": {},
   "outputs": [],
   "source": []
  }
 ],
 "metadata": {
  "kernelspec": {
   "display_name": "Python 3 (ipykernel)",
   "language": "python",
   "name": "python3"
  },
  "language_info": {
   "codemirror_mode": {
    "name": "ipython",
    "version": 3
   },
   "file_extension": ".py",
   "mimetype": "text/x-python",
   "name": "python",
   "nbconvert_exporter": "python",
   "pygments_lexer": "ipython3",
   "version": "3.12.4"
  }
 },
 "nbformat": 4,
 "nbformat_minor": 5
}
